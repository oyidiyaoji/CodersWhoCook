{
 "cells": [
  {
   "cell_type": "markdown",
   "metadata": {},
   "source": [
    "# Coders Who Cook:  Machine Learning Algorithm\n",
    "\n",
    "Index:\n",
    "\n",
    "<a class=\"anchor\" id=\"index\"></a>\n",
    "\n",
    "1. [Uploading our dataset and EDA ](#1)\n",
    "2. [Encoding of categorical variables](#2)\n",
    "3. [Clustering with Kmodes](#3)\n",
    "4. [Sorting Clustered Profiles for Machine Learning Matching](#4)"
   ]
  },
  {
   "cell_type": "markdown",
   "metadata": {},
   "source": [
    "## 1. Uploading our dataset and EDA\n",
    "<a class=\"anchor\" id=\"1\"></a>\n",
    "\n",
    "[^Index](#index)"
   ]
  },
  {
   "cell_type": "code",
   "execution_count": 1,
   "metadata": {},
   "outputs": [],
   "source": [
    "import pandas as pd \n",
    "import matplotlib.pyplot as plt\n",
    "import seaborn as sns\n",
    "import numpy as np\n",
    "from plotly.offline import init_notebook_mode, iplot, plot\n",
    "import plotly as py\n",
    "import plotly.graph_objs as go\n",
    "import plotly.express as px\n",
    "import plotly.figure_factory as ff\n",
    "from sklearn.preprocessing import MinMaxScaler"
   ]
  },
  {
   "cell_type": "code",
   "execution_count": 2,
   "metadata": {},
   "outputs": [],
   "source": [
    "data = pd.read_excel('/home/user/Documents/OYI_PC_2and3/PROJECTS/hobbyhacks/Coders_Who_Cook.xlsx')"
   ]
  },
  {
   "cell_type": "code",
   "execution_count": 3,
   "metadata": {},
   "outputs": [
    {
     "data": {
      "text/html": [
       "<div>\n",
       "<style scoped>\n",
       "    .dataframe tbody tr th:only-of-type {\n",
       "        vertical-align: middle;\n",
       "    }\n",
       "\n",
       "    .dataframe tbody tr th {\n",
       "        vertical-align: top;\n",
       "    }\n",
       "\n",
       "    .dataframe thead th {\n",
       "        text-align: right;\n",
       "    }\n",
       "</style>\n",
       "<table border=\"1\" class=\"dataframe\">\n",
       "  <thead>\n",
       "    <tr style=\"text-align: right;\">\n",
       "      <th></th>\n",
       "      <th>first_name</th>\n",
       "      <th>last_name</th>\n",
       "      <th>email</th>\n",
       "      <th>gender</th>\n",
       "      <th>Country</th>\n",
       "      <th>Code Language</th>\n",
       "      <th>Cuisine 1</th>\n",
       "      <th>Cuisine 2</th>\n",
       "      <th>Cuisine3</th>\n",
       "      <th>Coding Level</th>\n",
       "    </tr>\n",
       "  </thead>\n",
       "  <tbody>\n",
       "    <tr>\n",
       "      <th>0</th>\n",
       "      <td>Fifi</td>\n",
       "      <td>Duker</td>\n",
       "      <td>fduker0@furl.net</td>\n",
       "      <td>Female</td>\n",
       "      <td>China</td>\n",
       "      <td>R</td>\n",
       "      <td>Asian</td>\n",
       "      <td>Brazilian</td>\n",
       "      <td>Indian</td>\n",
       "      <td>Beginner</td>\n",
       "    </tr>\n",
       "    <tr>\n",
       "      <th>1</th>\n",
       "      <td>Boote</td>\n",
       "      <td>Skotcher</td>\n",
       "      <td>bskotcher1@multiply.com</td>\n",
       "      <td>Male</td>\n",
       "      <td>Indonesia</td>\n",
       "      <td>R</td>\n",
       "      <td>Asian</td>\n",
       "      <td>Brazilian</td>\n",
       "      <td>Indian</td>\n",
       "      <td>Beginner</td>\n",
       "    </tr>\n",
       "    <tr>\n",
       "      <th>2</th>\n",
       "      <td>Sander</td>\n",
       "      <td>McGreal</td>\n",
       "      <td>smcgreal2@who.int</td>\n",
       "      <td>Male</td>\n",
       "      <td>Nigeria</td>\n",
       "      <td>R</td>\n",
       "      <td>Asian</td>\n",
       "      <td>Brazilian</td>\n",
       "      <td>Indian</td>\n",
       "      <td>Advance</td>\n",
       "    </tr>\n",
       "    <tr>\n",
       "      <th>3</th>\n",
       "      <td>Austine</td>\n",
       "      <td>Neasham</td>\n",
       "      <td>aneasham3@businessinsider.com</td>\n",
       "      <td>Female</td>\n",
       "      <td>Sweden</td>\n",
       "      <td>R</td>\n",
       "      <td>Asian</td>\n",
       "      <td>Brazilian</td>\n",
       "      <td>Indian</td>\n",
       "      <td>Advance</td>\n",
       "    </tr>\n",
       "    <tr>\n",
       "      <th>4</th>\n",
       "      <td>Andriette</td>\n",
       "      <td>Ivashkov</td>\n",
       "      <td>aivashkov4@stanford.edu</td>\n",
       "      <td>Female</td>\n",
       "      <td>China</td>\n",
       "      <td>R</td>\n",
       "      <td>Greek</td>\n",
       "      <td>BBQ</td>\n",
       "      <td>Brazilian</td>\n",
       "      <td>Intermediate</td>\n",
       "    </tr>\n",
       "  </tbody>\n",
       "</table>\n",
       "</div>"
      ],
      "text/plain": [
       "  first_name last_name                          email  gender    Country  \\\n",
       "0       Fifi     Duker               fduker0@furl.net  Female      China   \n",
       "1      Boote  Skotcher        bskotcher1@multiply.com    Male  Indonesia   \n",
       "2     Sander   McGreal              smcgreal2@who.int    Male    Nigeria   \n",
       "3    Austine   Neasham  aneasham3@businessinsider.com  Female     Sweden   \n",
       "4  Andriette  Ivashkov        aivashkov4@stanford.edu  Female      China   \n",
       "\n",
       "  Code Language Cuisine 1  Cuisine 2   Cuisine3  Coding Level  \n",
       "0             R     Asian  Brazilian     Indian      Beginner  \n",
       "1             R     Asian  Brazilian     Indian      Beginner  \n",
       "2             R     Asian  Brazilian     Indian       Advance  \n",
       "3             R     Asian  Brazilian     Indian       Advance  \n",
       "4             R     Greek        BBQ  Brazilian  Intermediate  "
      ]
     },
     "execution_count": 3,
     "metadata": {},
     "output_type": "execute_result"
    }
   ],
   "source": [
    "data.head()"
   ]
  },
  {
   "cell_type": "code",
   "execution_count": 4,
   "metadata": {},
   "outputs": [
    {
     "data": {
      "text/plain": [
       "(50, 10)"
      ]
     },
     "execution_count": 4,
     "metadata": {},
     "output_type": "execute_result"
    }
   ],
   "source": [
    "#The dataset contains 50 rows and 10 columns\n",
    "\n",
    "data.shape"
   ]
  },
  {
   "cell_type": "code",
   "execution_count": 5,
   "metadata": {},
   "outputs": [
    {
     "name": "stdout",
     "output_type": "stream",
     "text": [
      "<class 'pandas.core.frame.DataFrame'>\n",
      "RangeIndex: 50 entries, 0 to 49\n",
      "Data columns (total 10 columns):\n",
      " #   Column         Non-Null Count  Dtype \n",
      "---  ------         --------------  ----- \n",
      " 0   first_name     50 non-null     object\n",
      " 1   last_name      50 non-null     object\n",
      " 2   email          50 non-null     object\n",
      " 3   gender         50 non-null     object\n",
      " 4   Country        50 non-null     object\n",
      " 5   Code Language  50 non-null     object\n",
      " 6   Cuisine 1      50 non-null     object\n",
      " 7   Cuisine 2      50 non-null     object\n",
      " 8   Cuisine3       50 non-null     object\n",
      " 9   Coding Level   50 non-null     object\n",
      "dtypes: object(10)\n",
      "memory usage: 4.0+ KB\n"
     ]
    }
   ],
   "source": [
    "#All values are categorical\n",
    "\n",
    "data.info()"
   ]
  },
  {
   "cell_type": "code",
   "execution_count": 6,
   "metadata": {},
   "outputs": [
    {
     "data": {
      "text/html": [
       "<div>\n",
       "<style scoped>\n",
       "    .dataframe tbody tr th:only-of-type {\n",
       "        vertical-align: middle;\n",
       "    }\n",
       "\n",
       "    .dataframe tbody tr th {\n",
       "        vertical-align: top;\n",
       "    }\n",
       "\n",
       "    .dataframe thead th {\n",
       "        text-align: right;\n",
       "    }\n",
       "</style>\n",
       "<table border=\"1\" class=\"dataframe\">\n",
       "  <thead>\n",
       "    <tr style=\"text-align: right;\">\n",
       "      <th></th>\n",
       "      <th>first_name</th>\n",
       "      <th>last_name</th>\n",
       "      <th>email</th>\n",
       "      <th>gender</th>\n",
       "      <th>Country</th>\n",
       "      <th>Code Language</th>\n",
       "      <th>Cuisine 1</th>\n",
       "      <th>Cuisine 2</th>\n",
       "      <th>Cuisine3</th>\n",
       "      <th>Coding Level</th>\n",
       "    </tr>\n",
       "  </thead>\n",
       "  <tbody>\n",
       "    <tr>\n",
       "      <th>count</th>\n",
       "      <td>50</td>\n",
       "      <td>50</td>\n",
       "      <td>50</td>\n",
       "      <td>50</td>\n",
       "      <td>50</td>\n",
       "      <td>50</td>\n",
       "      <td>50</td>\n",
       "      <td>50</td>\n",
       "      <td>50</td>\n",
       "      <td>50</td>\n",
       "    </tr>\n",
       "    <tr>\n",
       "      <th>unique</th>\n",
       "      <td>49</td>\n",
       "      <td>50</td>\n",
       "      <td>50</td>\n",
       "      <td>2</td>\n",
       "      <td>24</td>\n",
       "      <td>10</td>\n",
       "      <td>11</td>\n",
       "      <td>13</td>\n",
       "      <td>13</td>\n",
       "      <td>3</td>\n",
       "    </tr>\n",
       "    <tr>\n",
       "      <th>top</th>\n",
       "      <td>Sheeree</td>\n",
       "      <td>Tomovic</td>\n",
       "      <td>tgadesbyp@google.de</td>\n",
       "      <td>Female</td>\n",
       "      <td>China</td>\n",
       "      <td>Javascript</td>\n",
       "      <td>Asian</td>\n",
       "      <td>French</td>\n",
       "      <td>Indian</td>\n",
       "      <td>Intermediate</td>\n",
       "    </tr>\n",
       "    <tr>\n",
       "      <th>freq</th>\n",
       "      <td>2</td>\n",
       "      <td>1</td>\n",
       "      <td>1</td>\n",
       "      <td>31</td>\n",
       "      <td>10</td>\n",
       "      <td>11</td>\n",
       "      <td>12</td>\n",
       "      <td>9</td>\n",
       "      <td>7</td>\n",
       "      <td>19</td>\n",
       "    </tr>\n",
       "  </tbody>\n",
       "</table>\n",
       "</div>"
      ],
      "text/plain": [
       "       first_name last_name                email  gender Country  \\\n",
       "count          50        50                   50      50      50   \n",
       "unique         49        50                   50       2      24   \n",
       "top       Sheeree   Tomovic  tgadesbyp@google.de  Female   China   \n",
       "freq            2         1                    1      31      10   \n",
       "\n",
       "       Code Language Cuisine 1 Cuisine 2 Cuisine3  Coding Level  \n",
       "count             50        50        50       50            50  \n",
       "unique            10        11        13       13             3  \n",
       "top       Javascript     Asian    French   Indian  Intermediate  \n",
       "freq              11        12         9        7            19  "
      ]
     },
     "execution_count": 6,
     "metadata": {},
     "output_type": "execute_result"
    }
   ],
   "source": [
    "data.describe()"
   ]
  },
  {
   "cell_type": "code",
   "execution_count": 7,
   "metadata": {},
   "outputs": [
    {
     "data": {
      "image/png": "[encoded data removed]",
      "text/plain": [
       "<Figure size 842.4x595.44 with 2 Axes>"
      ]
     },
     "metadata": {},
     "output_type": "display_data"
    }
   ],
   "source": [
    "#According to this heatmap there are no missing values\n",
    "\n",
    "sns.set(rc={'figure.figsize':(11.7, 8.27)})\n",
    "sns.heatmap(data.isnull(), yticklabels=False, cbar=True, cmap='viridis')\n",
    "plt.show()"
   ]
  },
  {
   "cell_type": "code",
   "execution_count": 8,
   "metadata": {},
   "outputs": [
    {
     "data": {
      "text/plain": [
       "array(['Fifi', 'Boote', 'Sander', 'Austine', 'Andriette', 'Marjory',\n",
       "       'Fonsie', 'Emalia', 'Hercules', 'Murdoch', 'Christean', 'Loren',\n",
       "       'Celene', 'Alix', 'Bobbi', 'Sheeree', 'Rori', 'Pammi', 'Daria',\n",
       "       'Martita', 'Ursala', 'Wilhelm', 'Donnell', 'Cristen', 'Teresa',\n",
       "       'Cally', 'Maure', 'Muffin', 'Fleur', 'Lorette', 'Onida', 'Vonnie',\n",
       "       'Juan', 'Alick', 'Georgeanne', 'Mattie', 'Darbee', 'Antoni',\n",
       "       'Davida', 'Silvan', 'Marcy', 'Wes', 'Eleonora', 'Rollins', 'Elna',\n",
       "       'Jammal', 'Perla', 'Harmon', 'Jolie'], dtype=object)"
      ]
     },
     "execution_count": 8,
     "metadata": {},
     "output_type": "execute_result"
    }
   ],
   "source": [
    "#I want to see if I can spot any problem on the data\n",
    "\n",
    "data.first_name.unique() "
   ]
  },
  {
   "cell_type": "code",
   "execution_count": 9,
   "metadata": {},
   "outputs": [
    {
     "data": {
      "text/plain": [
       "array(['Duker', 'Skotcher', 'McGreal', 'Neasham', 'Ivashkov', 'Gronauer',\n",
       "       'Costy', 'Gouny', 'Vesty', 'Greiser', 'Killik', 'Stancliffe',\n",
       "       'Linscott', 'Sibbald', 'Spindler', 'Grimme', 'Rubinowitch',\n",
       "       'Mingo', 'Hayller', 'Jurczyk', 'Mc Andrew', 'Featonby', 'Rignall',\n",
       "       'Kordt', 'Sharratt', 'Gadesby', 'Graver', 'Carn', 'Tomovic',\n",
       "       'Cheers', 'Gendrich', 'Duchasteau', 'Alvey', 'Zoren', 'Andryunin',\n",
       "       'Sussex', 'Ditchburn', 'Doddridge', 'Brogan', 'Gerriet', 'Askam',\n",
       "       'Dorwood', 'Evensden', 'Merit', 'Firminger', 'Tregien', 'Crepel',\n",
       "       'Solan', 'Huyche', 'Grieg'], dtype=object)"
      ]
     },
     "execution_count": 9,
     "metadata": {},
     "output_type": "execute_result"
    }
   ],
   "source": [
    "data.last_name.unique() "
   ]
  },
  {
   "cell_type": "code",
   "execution_count": 10,
   "metadata": {},
   "outputs": [
    {
     "data": {
      "text/plain": [
       "array(['fduker0@furl.net', 'bskotcher1@multiply.com', 'smcgreal2@who.int',\n",
       "       'aneasham3@businessinsider.com', 'aivashkov4@stanford.edu',\n",
       "       'mgronauer5@narod.ru', 'fcosty6@virginia.edu',\n",
       "       'egouny7@google.com.au', 'hvesty8@gnu.org',\n",
       "       'mgreiser9@prnewswire.com', 'ckillika@japanpost.jp',\n",
       "       'lstancliffeb@nydailynews.com', 'clinscottc@bravesites.com',\n",
       "       'asibbaldd@photobucket.com', 'bspindlere@tinyurl.com',\n",
       "       'sgrimmef@cnet.com', 'rrubinowitchg@webeden.co.uk',\n",
       "       'pmingoh@elpais.com', 'dhaylleri@ebay.co.uk',\n",
       "       'mjurczykj@macromedia.com', 'umcandrewk@yellowbook.com',\n",
       "       'wfeatonbyl@hubpages.com', 'srignallm@amazon.co.jp',\n",
       "       'dkordtn@tinypic.com', 'csharratto@wikispaces.com',\n",
       "       'tgadesbyp@google.de', 'cgraverq@histats.com', 'mcarnr@usa.gov',\n",
       "       'mtomovics@wunderground.com', 'fcheerst@devhub.com',\n",
       "       'lgendrichu@tripod.com', 'oduchasteauv@admin.ch',\n",
       "       'valveyw@themeforest.net', 'jzorenx@dmoz.org',\n",
       "       'aandryuniny@csmonitor.com', 'gsussexz@bbb.org',\n",
       "       'mditchburn10@canalblog.com', 'ddoddridge11@ovh.net',\n",
       "       'abrogan12@prweb.com', 'dgerriet13@biblegateway.com',\n",
       "       'saskam14@multiply.com', 'mdorwood15@va.gov',\n",
       "       'wevensden16@discovery.com', 'emerit17@usnews.com',\n",
       "       'rfirminger18@furl.net', 'etregien19@facebook.com',\n",
       "       'jcrepel1a@aol.com', 'psolan1b@biglobe.ne.jp',\n",
       "       'hhuyche1c@gmpg.org', 'jgrieg1d@vinaora.com'], dtype=object)"
      ]
     },
     "execution_count": 10,
     "metadata": {},
     "output_type": "execute_result"
    }
   ],
   "source": [
    "data.email.unique() "
   ]
  },
  {
   "cell_type": "code",
   "execution_count": 11,
   "metadata": {},
   "outputs": [
    {
     "data": {
      "text/plain": [
       "Female    31\n",
       "Male      19\n",
       "Name: gender, dtype: int64"
      ]
     },
     "execution_count": 11,
     "metadata": {},
     "output_type": "execute_result"
    }
   ],
   "source": [
    "data.gender.value_counts()"
   ]
  },
  {
   "cell_type": "code",
   "execution_count": 12,
   "metadata": {},
   "outputs": [
    {
     "data": {
      "text/plain": [
       "China             10\n",
       "Indonesia          9\n",
       "Peru               3\n",
       "Portugal           3\n",
       "Brazil             3\n",
       "France             2\n",
       "Ukraine            2\n",
       "United States      2\n",
       "Canada             1\n",
       "Bulgaria           1\n",
       "Norway             1\n",
       "Niger              1\n",
       "United Kingdom     1\n",
       "Philippines        1\n",
       "Russia             1\n",
       "Nicaragua          1\n",
       "Sweden             1\n",
       "Serbia             1\n",
       "Croatia            1\n",
       "American Samoa     1\n",
       "Nigeria            1\n",
       "Botswana           1\n",
       "Afghanistan        1\n",
       "Mexico             1\n",
       "Name: Country, dtype: int64"
      ]
     },
     "execution_count": 12,
     "metadata": {},
     "output_type": "execute_result"
    }
   ],
   "source": [
    "data.Country.value_counts() "
   ]
  },
  {
   "cell_type": "code",
   "execution_count": 13,
   "metadata": {},
   "outputs": [
    {
     "data": {
      "text/plain": [
       "array(['R', 'Javascript', 'SQL', 'Ruby', 'Java', 'HTML', 'Python', 'PHP',\n",
       "       'Perl', 'Aura'], dtype=object)"
      ]
     },
     "execution_count": 13,
     "metadata": {},
     "output_type": "execute_result"
    }
   ],
   "source": [
    "data['Code Language'].unique() "
   ]
  },
  {
   "cell_type": "code",
   "execution_count": 14,
   "metadata": {},
   "outputs": [
    {
     "data": {
      "text/plain": [
       "10"
      ]
     },
     "execution_count": 14,
     "metadata": {},
     "output_type": "execute_result"
    }
   ],
   "source": [
    "data['Code Language'].nunique() "
   ]
  },
  {
   "cell_type": "code",
   "execution_count": 15,
   "metadata": {},
   "outputs": [
    {
     "data": {
      "text/plain": [
       "Asian        12\n",
       "Germanic      6\n",
       "Scottish      6\n",
       "Latin         5\n",
       "Vegan         5\n",
       "French        3\n",
       "Brazilian     3\n",
       "Hungarian     3\n",
       "Indian        3\n",
       "Caribbean     2\n",
       "Greek         2\n",
       "Name: Cuisine 1, dtype: int64"
      ]
     },
     "execution_count": 15,
     "metadata": {},
     "output_type": "execute_result"
    }
   ],
   "source": [
    "data['Cuisine 1'].value_counts() "
   ]
  },
  {
   "cell_type": "code",
   "execution_count": 16,
   "metadata": {},
   "outputs": [
    {
     "data": {
      "text/plain": [
       "French           9\n",
       "Latin            9\n",
       "Asian            7\n",
       "BBQ              6\n",
       "Brazilian        5\n",
       "Vegan            4\n",
       "Mediterranean    3\n",
       "Vegetarian       2\n",
       "Germanic         1\n",
       "Cajun            1\n",
       "Hungarian        1\n",
       "Greek            1\n",
       "Caribbean        1\n",
       "Name: Cuisine 2, dtype: int64"
      ]
     },
     "execution_count": 16,
     "metadata": {},
     "output_type": "execute_result"
    }
   ],
   "source": [
    "data['Cuisine 2'].value_counts() "
   ]
  },
  {
   "cell_type": "code",
   "execution_count": 17,
   "metadata": {},
   "outputs": [
    {
     "data": {
      "text/plain": [
       "Indian        7\n",
       "Scottish      7\n",
       "Vegetarian    6\n",
       "Brazilian     5\n",
       "Cajun         5\n",
       "Greek         5\n",
       "Hungarian     4\n",
       "BBQ           3\n",
       "French        2\n",
       "American      2\n",
       "Caribbean     2\n",
       "Germanic      1\n",
       "Vegan         1\n",
       "Name: Cuisine3, dtype: int64"
      ]
     },
     "execution_count": 17,
     "metadata": {},
     "output_type": "execute_result"
    }
   ],
   "source": [
    "data['Cuisine3'].value_counts() "
   ]
  },
  {
   "cell_type": "code",
   "execution_count": 18,
   "metadata": {},
   "outputs": [],
   "source": [
    "data = data.rename(columns={'Cuisine3' : 'Cuisine 3'} )"
   ]
  },
  {
   "cell_type": "code",
   "execution_count": 19,
   "metadata": {},
   "outputs": [
    {
     "name": "stdout",
     "output_type": "stream",
     "text": [
      "<class 'pandas.core.frame.DataFrame'>\n",
      "RangeIndex: 50 entries, 0 to 49\n",
      "Data columns (total 10 columns):\n",
      " #   Column         Non-Null Count  Dtype \n",
      "---  ------         --------------  ----- \n",
      " 0   first_name     50 non-null     object\n",
      " 1   last_name      50 non-null     object\n",
      " 2   email          50 non-null     object\n",
      " 3   gender         50 non-null     object\n",
      " 4   Country        50 non-null     object\n",
      " 5   Code Language  50 non-null     object\n",
      " 6   Cuisine 1      50 non-null     object\n",
      " 7   Cuisine 2      50 non-null     object\n",
      " 8   Cuisine 3      50 non-null     object\n",
      " 9   Coding Level   50 non-null     object\n",
      "dtypes: object(10)\n",
      "memory usage: 4.0+ KB\n"
     ]
    }
   ],
   "source": [
    "data.info()"
   ]
  },
  {
   "cell_type": "code",
   "execution_count": 20,
   "metadata": {},
   "outputs": [
    {
     "data": {
      "text/plain": [
       "Intermediate    19\n",
       "Advance         16\n",
       "Beginner        15\n",
       "Name: Coding Level, dtype: int64"
      ]
     },
     "execution_count": 20,
     "metadata": {},
     "output_type": "execute_result"
    }
   ],
   "source": [
    "data['Coding Level'].value_counts() "
   ]
  },
  {
   "cell_type": "code",
   "execution_count": 21,
   "metadata": {},
   "outputs": [
    {
     "data": {
      "text/html": [
       "<div>\n",
       "<style scoped>\n",
       "    .dataframe tbody tr th:only-of-type {\n",
       "        vertical-align: middle;\n",
       "    }\n",
       "\n",
       "    .dataframe tbody tr th {\n",
       "        vertical-align: top;\n",
       "    }\n",
       "\n",
       "    .dataframe thead th {\n",
       "        text-align: right;\n",
       "    }\n",
       "</style>\n",
       "<table border=\"1\" class=\"dataframe\">\n",
       "  <thead>\n",
       "    <tr style=\"text-align: right;\">\n",
       "      <th></th>\n",
       "      <th>first_name</th>\n",
       "      <th>last_name</th>\n",
       "      <th>email</th>\n",
       "      <th>gender</th>\n",
       "      <th>Country</th>\n",
       "      <th>Code Language</th>\n",
       "      <th>Cuisine 1</th>\n",
       "      <th>Cuisine 2</th>\n",
       "      <th>Cuisine 3</th>\n",
       "      <th>Coding Level</th>\n",
       "    </tr>\n",
       "  </thead>\n",
       "  <tbody>\n",
       "    <tr>\n",
       "      <th>0</th>\n",
       "      <td>Fifi</td>\n",
       "      <td>Duker</td>\n",
       "      <td>fduker0@furl.net</td>\n",
       "      <td>Female</td>\n",
       "      <td>China</td>\n",
       "      <td>R</td>\n",
       "      <td>Asian</td>\n",
       "      <td>Brazilian</td>\n",
       "      <td>Indian</td>\n",
       "      <td>Beginner</td>\n",
       "    </tr>\n",
       "    <tr>\n",
       "      <th>1</th>\n",
       "      <td>Boote</td>\n",
       "      <td>Skotcher</td>\n",
       "      <td>bskotcher1@multiply.com</td>\n",
       "      <td>Male</td>\n",
       "      <td>Indonesia</td>\n",
       "      <td>R</td>\n",
       "      <td>Asian</td>\n",
       "      <td>Brazilian</td>\n",
       "      <td>Indian</td>\n",
       "      <td>Beginner</td>\n",
       "    </tr>\n",
       "    <tr>\n",
       "      <th>2</th>\n",
       "      <td>Sander</td>\n",
       "      <td>McGreal</td>\n",
       "      <td>smcgreal2@who.int</td>\n",
       "      <td>Male</td>\n",
       "      <td>Nigeria</td>\n",
       "      <td>R</td>\n",
       "      <td>Asian</td>\n",
       "      <td>Brazilian</td>\n",
       "      <td>Indian</td>\n",
       "      <td>Advance</td>\n",
       "    </tr>\n",
       "    <tr>\n",
       "      <th>3</th>\n",
       "      <td>Austine</td>\n",
       "      <td>Neasham</td>\n",
       "      <td>aneasham3@businessinsider.com</td>\n",
       "      <td>Female</td>\n",
       "      <td>Sweden</td>\n",
       "      <td>R</td>\n",
       "      <td>Asian</td>\n",
       "      <td>Brazilian</td>\n",
       "      <td>Indian</td>\n",
       "      <td>Advance</td>\n",
       "    </tr>\n",
       "    <tr>\n",
       "      <th>4</th>\n",
       "      <td>Andriette</td>\n",
       "      <td>Ivashkov</td>\n",
       "      <td>aivashkov4@stanford.edu</td>\n",
       "      <td>Female</td>\n",
       "      <td>China</td>\n",
       "      <td>R</td>\n",
       "      <td>Greek</td>\n",
       "      <td>BBQ</td>\n",
       "      <td>Brazilian</td>\n",
       "      <td>Intermediate</td>\n",
       "    </tr>\n",
       "    <tr>\n",
       "      <th>5</th>\n",
       "      <td>Marjory</td>\n",
       "      <td>Gronauer</td>\n",
       "      <td>mgronauer5@narod.ru</td>\n",
       "      <td>Female</td>\n",
       "      <td>China</td>\n",
       "      <td>Javascript</td>\n",
       "      <td>Asian</td>\n",
       "      <td>Latin</td>\n",
       "      <td>Indian</td>\n",
       "      <td>Beginner</td>\n",
       "    </tr>\n",
       "    <tr>\n",
       "      <th>6</th>\n",
       "      <td>Fonsie</td>\n",
       "      <td>Costy</td>\n",
       "      <td>fcosty6@virginia.edu</td>\n",
       "      <td>Male</td>\n",
       "      <td>American Samoa</td>\n",
       "      <td>Javascript</td>\n",
       "      <td>Indian</td>\n",
       "      <td>French</td>\n",
       "      <td>Cajun</td>\n",
       "      <td>Intermediate</td>\n",
       "    </tr>\n",
       "    <tr>\n",
       "      <th>7</th>\n",
       "      <td>Emalia</td>\n",
       "      <td>Gouny</td>\n",
       "      <td>egouny7@google.com.au</td>\n",
       "      <td>Female</td>\n",
       "      <td>Canada</td>\n",
       "      <td>Javascript</td>\n",
       "      <td>Indian</td>\n",
       "      <td>French</td>\n",
       "      <td>Cajun</td>\n",
       "      <td>Intermediate</td>\n",
       "    </tr>\n",
       "    <tr>\n",
       "      <th>8</th>\n",
       "      <td>Hercules</td>\n",
       "      <td>Vesty</td>\n",
       "      <td>hvesty8@gnu.org</td>\n",
       "      <td>Male</td>\n",
       "      <td>Botswana</td>\n",
       "      <td>Javascript</td>\n",
       "      <td>Indian</td>\n",
       "      <td>French</td>\n",
       "      <td>Cajun</td>\n",
       "      <td>Intermediate</td>\n",
       "    </tr>\n",
       "    <tr>\n",
       "      <th>9</th>\n",
       "      <td>Murdoch</td>\n",
       "      <td>Greiser</td>\n",
       "      <td>mgreiser9@prnewswire.com</td>\n",
       "      <td>Male</td>\n",
       "      <td>Croatia</td>\n",
       "      <td>SQL</td>\n",
       "      <td>Latin</td>\n",
       "      <td>Asian</td>\n",
       "      <td>Hungarian</td>\n",
       "      <td>Advance</td>\n",
       "    </tr>\n",
       "    <tr>\n",
       "      <th>10</th>\n",
       "      <td>Christean</td>\n",
       "      <td>Killik</td>\n",
       "      <td>ckillika@japanpost.jp</td>\n",
       "      <td>Female</td>\n",
       "      <td>China</td>\n",
       "      <td>SQL</td>\n",
       "      <td>Hungarian</td>\n",
       "      <td>French</td>\n",
       "      <td>Indian</td>\n",
       "      <td>Advance</td>\n",
       "    </tr>\n",
       "    <tr>\n",
       "      <th>11</th>\n",
       "      <td>Loren</td>\n",
       "      <td>Stancliffe</td>\n",
       "      <td>lstancliffeb@nydailynews.com</td>\n",
       "      <td>Female</td>\n",
       "      <td>Peru</td>\n",
       "      <td>SQL</td>\n",
       "      <td>Hungarian</td>\n",
       "      <td>French</td>\n",
       "      <td>Indian</td>\n",
       "      <td>Advance</td>\n",
       "    </tr>\n",
       "    <tr>\n",
       "      <th>12</th>\n",
       "      <td>Celene</td>\n",
       "      <td>Linscott</td>\n",
       "      <td>clinscottc@bravesites.com</td>\n",
       "      <td>Female</td>\n",
       "      <td>Afghanistan</td>\n",
       "      <td>SQL</td>\n",
       "      <td>Asian</td>\n",
       "      <td>Latin</td>\n",
       "      <td>Scottish</td>\n",
       "      <td>Advance</td>\n",
       "    </tr>\n",
       "    <tr>\n",
       "      <th>13</th>\n",
       "      <td>Alix</td>\n",
       "      <td>Sibbald</td>\n",
       "      <td>asibbaldd@photobucket.com</td>\n",
       "      <td>Male</td>\n",
       "      <td>Indonesia</td>\n",
       "      <td>SQL</td>\n",
       "      <td>Hungarian</td>\n",
       "      <td>Cajun</td>\n",
       "      <td>Germanic</td>\n",
       "      <td>Beginner</td>\n",
       "    </tr>\n",
       "    <tr>\n",
       "      <th>14</th>\n",
       "      <td>Bobbi</td>\n",
       "      <td>Spindler</td>\n",
       "      <td>bspindlere@tinyurl.com</td>\n",
       "      <td>Female</td>\n",
       "      <td>Indonesia</td>\n",
       "      <td>Ruby</td>\n",
       "      <td>Germanic</td>\n",
       "      <td>BBQ</td>\n",
       "      <td>Vegetarian</td>\n",
       "      <td>Intermediate</td>\n",
       "    </tr>\n",
       "    <tr>\n",
       "      <th>15</th>\n",
       "      <td>Sheeree</td>\n",
       "      <td>Grimme</td>\n",
       "      <td>sgrimmef@cnet.com</td>\n",
       "      <td>Female</td>\n",
       "      <td>Ukraine</td>\n",
       "      <td>Ruby</td>\n",
       "      <td>Germanic</td>\n",
       "      <td>BBQ</td>\n",
       "      <td>Vegetarian</td>\n",
       "      <td>Intermediate</td>\n",
       "    </tr>\n",
       "    <tr>\n",
       "      <th>16</th>\n",
       "      <td>Rori</td>\n",
       "      <td>Rubinowitch</td>\n",
       "      <td>rrubinowitchg@webeden.co.uk</td>\n",
       "      <td>Female</td>\n",
       "      <td>United Kingdom</td>\n",
       "      <td>Ruby</td>\n",
       "      <td>Scottish</td>\n",
       "      <td>Caribbean</td>\n",
       "      <td>BBQ</td>\n",
       "      <td>Intermediate</td>\n",
       "    </tr>\n",
       "    <tr>\n",
       "      <th>17</th>\n",
       "      <td>Pammi</td>\n",
       "      <td>Mingo</td>\n",
       "      <td>pmingoh@elpais.com</td>\n",
       "      <td>Female</td>\n",
       "      <td>Indonesia</td>\n",
       "      <td>Ruby</td>\n",
       "      <td>Germanic</td>\n",
       "      <td>BBQ</td>\n",
       "      <td>Vegetarian</td>\n",
       "      <td>Intermediate</td>\n",
       "    </tr>\n",
       "    <tr>\n",
       "      <th>18</th>\n",
       "      <td>Daria</td>\n",
       "      <td>Hayller</td>\n",
       "      <td>dhaylleri@ebay.co.uk</td>\n",
       "      <td>Female</td>\n",
       "      <td>Portugal</td>\n",
       "      <td>Java</td>\n",
       "      <td>Latin</td>\n",
       "      <td>Asian</td>\n",
       "      <td>Cajun</td>\n",
       "      <td>Advance</td>\n",
       "    </tr>\n",
       "    <tr>\n",
       "      <th>19</th>\n",
       "      <td>Martita</td>\n",
       "      <td>Jurczyk</td>\n",
       "      <td>mjurczykj@macromedia.com</td>\n",
       "      <td>Female</td>\n",
       "      <td>Mexico</td>\n",
       "      <td>HTML</td>\n",
       "      <td>Vegan</td>\n",
       "      <td>French</td>\n",
       "      <td>Caribbean</td>\n",
       "      <td>Advance</td>\n",
       "    </tr>\n",
       "    <tr>\n",
       "      <th>20</th>\n",
       "      <td>Ursala</td>\n",
       "      <td>Mc Andrew</td>\n",
       "      <td>umcandrewk@yellowbook.com</td>\n",
       "      <td>Female</td>\n",
       "      <td>Russia</td>\n",
       "      <td>HTML</td>\n",
       "      <td>Brazilian</td>\n",
       "      <td>French</td>\n",
       "      <td>Greek</td>\n",
       "      <td>Beginner</td>\n",
       "    </tr>\n",
       "    <tr>\n",
       "      <th>21</th>\n",
       "      <td>Wilhelm</td>\n",
       "      <td>Featonby</td>\n",
       "      <td>wfeatonbyl@hubpages.com</td>\n",
       "      <td>Male</td>\n",
       "      <td>France</td>\n",
       "      <td>HTML</td>\n",
       "      <td>Brazilian</td>\n",
       "      <td>French</td>\n",
       "      <td>Greek</td>\n",
       "      <td>Beginner</td>\n",
       "    </tr>\n",
       "    <tr>\n",
       "      <th>22</th>\n",
       "      <td>Sheeree</td>\n",
       "      <td>Rignall</td>\n",
       "      <td>srignallm@amazon.co.jp</td>\n",
       "      <td>Female</td>\n",
       "      <td>Serbia</td>\n",
       "      <td>HTML</td>\n",
       "      <td>Brazilian</td>\n",
       "      <td>French</td>\n",
       "      <td>Greek</td>\n",
       "      <td>Beginner</td>\n",
       "    </tr>\n",
       "    <tr>\n",
       "      <th>23</th>\n",
       "      <td>Donnell</td>\n",
       "      <td>Kordt</td>\n",
       "      <td>dkordtn@tinypic.com</td>\n",
       "      <td>Male</td>\n",
       "      <td>France</td>\n",
       "      <td>HTML</td>\n",
       "      <td>Germanic</td>\n",
       "      <td>BBQ</td>\n",
       "      <td>Scottish</td>\n",
       "      <td>Intermediate</td>\n",
       "    </tr>\n",
       "    <tr>\n",
       "      <th>24</th>\n",
       "      <td>Cristen</td>\n",
       "      <td>Sharratt</td>\n",
       "      <td>csharratto@wikispaces.com</td>\n",
       "      <td>Female</td>\n",
       "      <td>Portugal</td>\n",
       "      <td>Python</td>\n",
       "      <td>Latin</td>\n",
       "      <td>Asian</td>\n",
       "      <td>American</td>\n",
       "      <td>Advance</td>\n",
       "    </tr>\n",
       "    <tr>\n",
       "      <th>25</th>\n",
       "      <td>Teresa</td>\n",
       "      <td>Gadesby</td>\n",
       "      <td>tgadesbyp@google.de</td>\n",
       "      <td>Female</td>\n",
       "      <td>Portugal</td>\n",
       "      <td>Python</td>\n",
       "      <td>French</td>\n",
       "      <td>Vegetarian</td>\n",
       "      <td>Caribbean</td>\n",
       "      <td>Beginner</td>\n",
       "    </tr>\n",
       "    <tr>\n",
       "      <th>26</th>\n",
       "      <td>Cally</td>\n",
       "      <td>Graver</td>\n",
       "      <td>cgraverq@histats.com</td>\n",
       "      <td>Female</td>\n",
       "      <td>Norway</td>\n",
       "      <td>Python</td>\n",
       "      <td>Caribbean</td>\n",
       "      <td>Vegetarian</td>\n",
       "      <td>Cajun</td>\n",
       "      <td>Advance</td>\n",
       "    </tr>\n",
       "    <tr>\n",
       "      <th>27</th>\n",
       "      <td>Maure</td>\n",
       "      <td>Carn</td>\n",
       "      <td>mcarnr@usa.gov</td>\n",
       "      <td>Female</td>\n",
       "      <td>Indonesia</td>\n",
       "      <td>Python</td>\n",
       "      <td>Asian</td>\n",
       "      <td>Greek</td>\n",
       "      <td>American</td>\n",
       "      <td>Intermediate</td>\n",
       "    </tr>\n",
       "    <tr>\n",
       "      <th>28</th>\n",
       "      <td>Muffin</td>\n",
       "      <td>Tomovic</td>\n",
       "      <td>mtomovics@wunderground.com</td>\n",
       "      <td>Male</td>\n",
       "      <td>Indonesia</td>\n",
       "      <td>Python</td>\n",
       "      <td>Caribbean</td>\n",
       "      <td>Latin</td>\n",
       "      <td>French</td>\n",
       "      <td>Intermediate</td>\n",
       "    </tr>\n",
       "    <tr>\n",
       "      <th>29</th>\n",
       "      <td>Fleur</td>\n",
       "      <td>Cheers</td>\n",
       "      <td>fcheerst@devhub.com</td>\n",
       "      <td>Female</td>\n",
       "      <td>United States</td>\n",
       "      <td>Python</td>\n",
       "      <td>Latin</td>\n",
       "      <td>Asian</td>\n",
       "      <td>Brazilian</td>\n",
       "      <td>Beginner</td>\n",
       "    </tr>\n",
       "    <tr>\n",
       "      <th>30</th>\n",
       "      <td>Lorette</td>\n",
       "      <td>Gendrich</td>\n",
       "      <td>lgendrichu@tripod.com</td>\n",
       "      <td>Female</td>\n",
       "      <td>Nicaragua</td>\n",
       "      <td>Javascript</td>\n",
       "      <td>Latin</td>\n",
       "      <td>Asian</td>\n",
       "      <td>Brazilian</td>\n",
       "      <td>Beginner</td>\n",
       "    </tr>\n",
       "    <tr>\n",
       "      <th>31</th>\n",
       "      <td>Onida</td>\n",
       "      <td>Duchasteau</td>\n",
       "      <td>oduchasteauv@admin.ch</td>\n",
       "      <td>Female</td>\n",
       "      <td>Philippines</td>\n",
       "      <td>Javascript</td>\n",
       "      <td>Scottish</td>\n",
       "      <td>Hungarian</td>\n",
       "      <td>French</td>\n",
       "      <td>Beginner</td>\n",
       "    </tr>\n",
       "    <tr>\n",
       "      <th>32</th>\n",
       "      <td>Vonnie</td>\n",
       "      <td>Alvey</td>\n",
       "      <td>valveyw@themeforest.net</td>\n",
       "      <td>Female</td>\n",
       "      <td>China</td>\n",
       "      <td>Javascript</td>\n",
       "      <td>Vegan</td>\n",
       "      <td>BBQ</td>\n",
       "      <td>Greek</td>\n",
       "      <td>Advance</td>\n",
       "    </tr>\n",
       "    <tr>\n",
       "      <th>33</th>\n",
       "      <td>Juan</td>\n",
       "      <td>Zoren</td>\n",
       "      <td>jzorenx@dmoz.org</td>\n",
       "      <td>Male</td>\n",
       "      <td>China</td>\n",
       "      <td>Javascript</td>\n",
       "      <td>Asian</td>\n",
       "      <td>Latin</td>\n",
       "      <td>Hungarian</td>\n",
       "      <td>Intermediate</td>\n",
       "    </tr>\n",
       "    <tr>\n",
       "      <th>34</th>\n",
       "      <td>Alick</td>\n",
       "      <td>Andryunin</td>\n",
       "      <td>aandryuniny@csmonitor.com</td>\n",
       "      <td>Male</td>\n",
       "      <td>United States</td>\n",
       "      <td>Javascript</td>\n",
       "      <td>Asian</td>\n",
       "      <td>Latin</td>\n",
       "      <td>Hungarian</td>\n",
       "      <td>Intermediate</td>\n",
       "    </tr>\n",
       "    <tr>\n",
       "      <th>35</th>\n",
       "      <td>Georgeanne</td>\n",
       "      <td>Sussex</td>\n",
       "      <td>gsussexz@bbb.org</td>\n",
       "      <td>Female</td>\n",
       "      <td>Indonesia</td>\n",
       "      <td>Javascript</td>\n",
       "      <td>Asian</td>\n",
       "      <td>Latin</td>\n",
       "      <td>Hungarian</td>\n",
       "      <td>Intermediate</td>\n",
       "    </tr>\n",
       "    <tr>\n",
       "      <th>36</th>\n",
       "      <td>Mattie</td>\n",
       "      <td>Ditchburn</td>\n",
       "      <td>mditchburn10@canalblog.com</td>\n",
       "      <td>Male</td>\n",
       "      <td>Niger</td>\n",
       "      <td>Javascript</td>\n",
       "      <td>Vegan</td>\n",
       "      <td>Mediterranean</td>\n",
       "      <td>Scottish</td>\n",
       "      <td>Advance</td>\n",
       "    </tr>\n",
       "    <tr>\n",
       "      <th>37</th>\n",
       "      <td>Darbee</td>\n",
       "      <td>Doddridge</td>\n",
       "      <td>ddoddridge11@ovh.net</td>\n",
       "      <td>Male</td>\n",
       "      <td>Indonesia</td>\n",
       "      <td>PHP</td>\n",
       "      <td>Greek</td>\n",
       "      <td>Brazilian</td>\n",
       "      <td>Vegan</td>\n",
       "      <td>Beginner</td>\n",
       "    </tr>\n",
       "    <tr>\n",
       "      <th>38</th>\n",
       "      <td>Antoni</td>\n",
       "      <td>Brogan</td>\n",
       "      <td>abrogan12@prweb.com</td>\n",
       "      <td>Male</td>\n",
       "      <td>China</td>\n",
       "      <td>PHP</td>\n",
       "      <td>Vegan</td>\n",
       "      <td>Mediterranean</td>\n",
       "      <td>Scottish</td>\n",
       "      <td>Advance</td>\n",
       "    </tr>\n",
       "    <tr>\n",
       "      <th>39</th>\n",
       "      <td>Davida</td>\n",
       "      <td>Gerriet</td>\n",
       "      <td>dgerriet13@biblegateway.com</td>\n",
       "      <td>Female</td>\n",
       "      <td>China</td>\n",
       "      <td>PHP</td>\n",
       "      <td>Vegan</td>\n",
       "      <td>Mediterranean</td>\n",
       "      <td>Scottish</td>\n",
       "      <td>Advance</td>\n",
       "    </tr>\n",
       "    <tr>\n",
       "      <th>40</th>\n",
       "      <td>Silvan</td>\n",
       "      <td>Askam</td>\n",
       "      <td>saskam14@multiply.com</td>\n",
       "      <td>Male</td>\n",
       "      <td>Indonesia</td>\n",
       "      <td>PHP</td>\n",
       "      <td>French</td>\n",
       "      <td>Vegan</td>\n",
       "      <td>Vegetarian</td>\n",
       "      <td>Intermediate</td>\n",
       "    </tr>\n",
       "    <tr>\n",
       "      <th>41</th>\n",
       "      <td>Marcy</td>\n",
       "      <td>Dorwood</td>\n",
       "      <td>mdorwood15@va.gov</td>\n",
       "      <td>Female</td>\n",
       "      <td>Brazil</td>\n",
       "      <td>PHP</td>\n",
       "      <td>French</td>\n",
       "      <td>Vegan</td>\n",
       "      <td>Vegetarian</td>\n",
       "      <td>Intermediate</td>\n",
       "    </tr>\n",
       "    <tr>\n",
       "      <th>42</th>\n",
       "      <td>Wes</td>\n",
       "      <td>Evensden</td>\n",
       "      <td>wevensden16@discovery.com</td>\n",
       "      <td>Male</td>\n",
       "      <td>Peru</td>\n",
       "      <td>Perl</td>\n",
       "      <td>Scottish</td>\n",
       "      <td>Latin</td>\n",
       "      <td>Brazilian</td>\n",
       "      <td>Beginner</td>\n",
       "    </tr>\n",
       "    <tr>\n",
       "      <th>43</th>\n",
       "      <td>Eleonora</td>\n",
       "      <td>Merit</td>\n",
       "      <td>emerit17@usnews.com</td>\n",
       "      <td>Female</td>\n",
       "      <td>Brazil</td>\n",
       "      <td>Perl</td>\n",
       "      <td>Asian</td>\n",
       "      <td>Germanic</td>\n",
       "      <td>Vegetarian</td>\n",
       "      <td>Intermediate</td>\n",
       "    </tr>\n",
       "    <tr>\n",
       "      <th>44</th>\n",
       "      <td>Rollins</td>\n",
       "      <td>Firminger</td>\n",
       "      <td>rfirminger18@furl.net</td>\n",
       "      <td>Male</td>\n",
       "      <td>China</td>\n",
       "      <td>Perl</td>\n",
       "      <td>Scottish</td>\n",
       "      <td>Latin</td>\n",
       "      <td>Brazilian</td>\n",
       "      <td>Beginner</td>\n",
       "    </tr>\n",
       "    <tr>\n",
       "      <th>45</th>\n",
       "      <td>Elna</td>\n",
       "      <td>Tregien</td>\n",
       "      <td>etregien19@facebook.com</td>\n",
       "      <td>Female</td>\n",
       "      <td>Peru</td>\n",
       "      <td>Aura</td>\n",
       "      <td>Scottish</td>\n",
       "      <td>Asian</td>\n",
       "      <td>Scottish</td>\n",
       "      <td>Advance</td>\n",
       "    </tr>\n",
       "    <tr>\n",
       "      <th>46</th>\n",
       "      <td>Jammal</td>\n",
       "      <td>Crepel</td>\n",
       "      <td>jcrepel1a@aol.com</td>\n",
       "      <td>Male</td>\n",
       "      <td>China</td>\n",
       "      <td>Aura</td>\n",
       "      <td>Scottish</td>\n",
       "      <td>Asian</td>\n",
       "      <td>Scottish</td>\n",
       "      <td>Advance</td>\n",
       "    </tr>\n",
       "    <tr>\n",
       "      <th>47</th>\n",
       "      <td>Perla</td>\n",
       "      <td>Solan</td>\n",
       "      <td>psolan1b@biglobe.ne.jp</td>\n",
       "      <td>Female</td>\n",
       "      <td>Brazil</td>\n",
       "      <td>Ruby</td>\n",
       "      <td>Germanic</td>\n",
       "      <td>Vegan</td>\n",
       "      <td>BBQ</td>\n",
       "      <td>Intermediate</td>\n",
       "    </tr>\n",
       "    <tr>\n",
       "      <th>48</th>\n",
       "      <td>Harmon</td>\n",
       "      <td>Huyche</td>\n",
       "      <td>hhuyche1c@gmpg.org</td>\n",
       "      <td>Male</td>\n",
       "      <td>Ukraine</td>\n",
       "      <td>Ruby</td>\n",
       "      <td>Germanic</td>\n",
       "      <td>Vegan</td>\n",
       "      <td>BBQ</td>\n",
       "      <td>Intermediate</td>\n",
       "    </tr>\n",
       "    <tr>\n",
       "      <th>49</th>\n",
       "      <td>Jolie</td>\n",
       "      <td>Grieg</td>\n",
       "      <td>jgrieg1d@vinaora.com</td>\n",
       "      <td>Female</td>\n",
       "      <td>Bulgaria</td>\n",
       "      <td>Ruby</td>\n",
       "      <td>Asian</td>\n",
       "      <td>Latin</td>\n",
       "      <td>Greek</td>\n",
       "      <td>Beginner</td>\n",
       "    </tr>\n",
       "  </tbody>\n",
       "</table>\n",
       "</div>"
      ],
      "text/plain": [
       "    first_name    last_name                          email  gender  \\\n",
       "0         Fifi        Duker               fduker0@furl.net  Female   \n",
       "1        Boote     Skotcher        bskotcher1@multiply.com    Male   \n",
       "2       Sander      McGreal              smcgreal2@who.int    Male   \n",
       "3      Austine      Neasham  aneasham3@businessinsider.com  Female   \n",
       "4    Andriette     Ivashkov        aivashkov4@stanford.edu  Female   \n",
       "5      Marjory     Gronauer            mgronauer5@narod.ru  Female   \n",
       "6       Fonsie        Costy           fcosty6@virginia.edu    Male   \n",
       "7       Emalia        Gouny          egouny7@google.com.au  Female   \n",
       "8     Hercules        Vesty                hvesty8@gnu.org    Male   \n",
       "9      Murdoch      Greiser       mgreiser9@prnewswire.com    Male   \n",
       "10   Christean       Killik          ckillika@japanpost.jp  Female   \n",
       "11       Loren   Stancliffe   lstancliffeb@nydailynews.com  Female   \n",
       "12      Celene     Linscott      clinscottc@bravesites.com  Female   \n",
       "13        Alix      Sibbald      asibbaldd@photobucket.com    Male   \n",
       "14       Bobbi     Spindler         bspindlere@tinyurl.com  Female   \n",
       "15     Sheeree       Grimme              sgrimmef@cnet.com  Female   \n",
       "16        Rori  Rubinowitch    rrubinowitchg@webeden.co.uk  Female   \n",
       "17       Pammi        Mingo             pmingoh@elpais.com  Female   \n",
       "18       Daria      Hayller           dhaylleri@ebay.co.uk  Female   \n",
       "19     Martita      Jurczyk       mjurczykj@macromedia.com  Female   \n",
       "20      Ursala    Mc Andrew      umcandrewk@yellowbook.com  Female   \n",
       "21     Wilhelm     Featonby        wfeatonbyl@hubpages.com    Male   \n",
       "22     Sheeree      Rignall         srignallm@amazon.co.jp  Female   \n",
       "23     Donnell        Kordt            dkordtn@tinypic.com    Male   \n",
       "24     Cristen     Sharratt      csharratto@wikispaces.com  Female   \n",
       "25      Teresa      Gadesby            tgadesbyp@google.de  Female   \n",
       "26       Cally       Graver           cgraverq@histats.com  Female   \n",
       "27       Maure         Carn                 mcarnr@usa.gov  Female   \n",
       "28      Muffin      Tomovic     mtomovics@wunderground.com    Male   \n",
       "29       Fleur       Cheers            fcheerst@devhub.com  Female   \n",
       "30     Lorette     Gendrich          lgendrichu@tripod.com  Female   \n",
       "31       Onida   Duchasteau          oduchasteauv@admin.ch  Female   \n",
       "32      Vonnie        Alvey        valveyw@themeforest.net  Female   \n",
       "33        Juan        Zoren               jzorenx@dmoz.org    Male   \n",
       "34       Alick    Andryunin      aandryuniny@csmonitor.com    Male   \n",
       "35  Georgeanne       Sussex               gsussexz@bbb.org  Female   \n",
       "36      Mattie    Ditchburn     mditchburn10@canalblog.com    Male   \n",
       "37      Darbee    Doddridge           ddoddridge11@ovh.net    Male   \n",
       "38      Antoni       Brogan            abrogan12@prweb.com    Male   \n",
       "39      Davida      Gerriet    dgerriet13@biblegateway.com  Female   \n",
       "40      Silvan        Askam          saskam14@multiply.com    Male   \n",
       "41       Marcy      Dorwood              mdorwood15@va.gov  Female   \n",
       "42         Wes     Evensden      wevensden16@discovery.com    Male   \n",
       "43    Eleonora        Merit            emerit17@usnews.com  Female   \n",
       "44     Rollins    Firminger          rfirminger18@furl.net    Male   \n",
       "45        Elna      Tregien        etregien19@facebook.com  Female   \n",
       "46      Jammal       Crepel              jcrepel1a@aol.com    Male   \n",
       "47       Perla        Solan         psolan1b@biglobe.ne.jp  Female   \n",
       "48      Harmon       Huyche             hhuyche1c@gmpg.org    Male   \n",
       "49       Jolie        Grieg           jgrieg1d@vinaora.com  Female   \n",
       "\n",
       "           Country Code Language  Cuisine 1      Cuisine 2   Cuisine 3  \\\n",
       "0            China             R      Asian      Brazilian      Indian   \n",
       "1        Indonesia             R      Asian      Brazilian      Indian   \n",
       "2          Nigeria             R      Asian      Brazilian      Indian   \n",
       "3           Sweden             R      Asian      Brazilian      Indian   \n",
       "4            China             R      Greek            BBQ   Brazilian   \n",
       "5            China    Javascript      Asian          Latin      Indian   \n",
       "6   American Samoa    Javascript     Indian         French       Cajun   \n",
       "7           Canada    Javascript     Indian         French       Cajun   \n",
       "8         Botswana    Javascript     Indian         French       Cajun   \n",
       "9          Croatia           SQL      Latin          Asian   Hungarian   \n",
       "10           China           SQL  Hungarian         French      Indian   \n",
       "11            Peru           SQL  Hungarian         French      Indian   \n",
       "12     Afghanistan           SQL      Asian          Latin    Scottish   \n",
       "13       Indonesia           SQL  Hungarian          Cajun    Germanic   \n",
       "14       Indonesia          Ruby   Germanic            BBQ  Vegetarian   \n",
       "15         Ukraine          Ruby   Germanic            BBQ  Vegetarian   \n",
       "16  United Kingdom          Ruby   Scottish      Caribbean         BBQ   \n",
       "17       Indonesia          Ruby   Germanic            BBQ  Vegetarian   \n",
       "18        Portugal          Java      Latin          Asian       Cajun   \n",
       "19          Mexico          HTML      Vegan         French   Caribbean   \n",
       "20          Russia          HTML  Brazilian         French       Greek   \n",
       "21          France          HTML  Brazilian         French       Greek   \n",
       "22          Serbia          HTML  Brazilian         French       Greek   \n",
       "23          France          HTML   Germanic            BBQ    Scottish   \n",
       "24        Portugal        Python      Latin          Asian    American   \n",
       "25        Portugal        Python     French     Vegetarian   Caribbean   \n",
       "26          Norway        Python  Caribbean     Vegetarian       Cajun   \n",
       "27       Indonesia        Python      Asian          Greek    American   \n",
       "28       Indonesia        Python  Caribbean          Latin      French   \n",
       "29   United States        Python      Latin          Asian   Brazilian   \n",
       "30       Nicaragua    Javascript      Latin          Asian   Brazilian   \n",
       "31     Philippines    Javascript   Scottish      Hungarian      French   \n",
       "32           China    Javascript      Vegan            BBQ       Greek   \n",
       "33           China    Javascript      Asian          Latin   Hungarian   \n",
       "34   United States    Javascript      Asian          Latin   Hungarian   \n",
       "35       Indonesia    Javascript      Asian          Latin   Hungarian   \n",
       "36           Niger    Javascript      Vegan  Mediterranean    Scottish   \n",
       "37       Indonesia           PHP      Greek      Brazilian       Vegan   \n",
       "38           China           PHP      Vegan  Mediterranean    Scottish   \n",
       "39           China           PHP      Vegan  Mediterranean    Scottish   \n",
       "40       Indonesia           PHP     French          Vegan  Vegetarian   \n",
       "41          Brazil           PHP     French          Vegan  Vegetarian   \n",
       "42            Peru          Perl   Scottish          Latin   Brazilian   \n",
       "43          Brazil          Perl      Asian       Germanic  Vegetarian   \n",
       "44           China          Perl   Scottish          Latin   Brazilian   \n",
       "45            Peru          Aura   Scottish          Asian    Scottish   \n",
       "46           China          Aura   Scottish          Asian    Scottish   \n",
       "47          Brazil          Ruby   Germanic          Vegan         BBQ   \n",
       "48         Ukraine          Ruby   Germanic          Vegan         BBQ   \n",
       "49        Bulgaria          Ruby      Asian          Latin       Greek   \n",
       "\n",
       "    Coding Level  \n",
       "0       Beginner  \n",
       "1       Beginner  \n",
       "2        Advance  \n",
       "3        Advance  \n",
       "4   Intermediate  \n",
       "5       Beginner  \n",
       "6   Intermediate  \n",
       "7   Intermediate  \n",
       "8   Intermediate  \n",
       "9        Advance  \n",
       "10       Advance  \n",
       "11       Advance  \n",
       "12       Advance  \n",
       "13      Beginner  \n",
       "14  Intermediate  \n",
       "15  Intermediate  \n",
       "16  Intermediate  \n",
       "17  Intermediate  \n",
       "18       Advance  \n",
       "19       Advance  \n",
       "20      Beginner  \n",
       "21      Beginner  \n",
       "22      Beginner  \n",
       "23  Intermediate  \n",
       "24       Advance  \n",
       "25      Beginner  \n",
       "26       Advance  \n",
       "27  Intermediate  \n",
       "28  Intermediate  \n",
       "29      Beginner  \n",
       "30      Beginner  \n",
       "31      Beginner  \n",
       "32       Advance  \n",
       "33  Intermediate  \n",
       "34  Intermediate  \n",
       "35  Intermediate  \n",
       "36       Advance  \n",
       "37      Beginner  \n",
       "38       Advance  \n",
       "39       Advance  \n",
       "40  Intermediate  \n",
       "41  Intermediate  \n",
       "42      Beginner  \n",
       "43  Intermediate  \n",
       "44      Beginner  \n",
       "45       Advance  \n",
       "46       Advance  \n",
       "47  Intermediate  \n",
       "48  Intermediate  \n",
       "49      Beginner  "
      ]
     },
     "execution_count": 21,
     "metadata": {},
     "output_type": "execute_result"
    }
   ],
   "source": [
    "#I am trying to check if there are any duplicates\n",
    "\n",
    "data.drop_duplicates()"
   ]
  },
  {
   "cell_type": "code",
   "execution_count": 22,
   "metadata": {},
   "outputs": [
    {
     "data": {
      "text/plain": [
       "(50, 10)"
      ]
     },
     "execution_count": 22,
     "metadata": {},
     "output_type": "execute_result"
    }
   ],
   "source": [
    "data.shape"
   ]
  },
  {
   "cell_type": "code",
   "execution_count": 23,
   "metadata": {},
   "outputs": [],
   "source": [
    "#I'm dropping some of the columns that will not be needed for clustering\n",
    "data.drop(['first_name', 'last_name', 'email'], axis=1, inplace=True)"
   ]
  },
  {
   "cell_type": "code",
   "execution_count": 24,
   "metadata": {},
   "outputs": [
    {
     "data": {
      "text/html": [
       "<div>\n",
       "<style scoped>\n",
       "    .dataframe tbody tr th:only-of-type {\n",
       "        vertical-align: middle;\n",
       "    }\n",
       "\n",
       "    .dataframe tbody tr th {\n",
       "        vertical-align: top;\n",
       "    }\n",
       "\n",
       "    .dataframe thead th {\n",
       "        text-align: right;\n",
       "    }\n",
       "</style>\n",
       "<table border=\"1\" class=\"dataframe\">\n",
       "  <thead>\n",
       "    <tr style=\"text-align: right;\">\n",
       "      <th></th>\n",
       "      <th>gender</th>\n",
       "      <th>Country</th>\n",
       "      <th>Code Language</th>\n",
       "      <th>Cuisine 1</th>\n",
       "      <th>Cuisine 2</th>\n",
       "      <th>Cuisine 3</th>\n",
       "      <th>Coding Level</th>\n",
       "    </tr>\n",
       "  </thead>\n",
       "  <tbody>\n",
       "    <tr>\n",
       "      <th>0</th>\n",
       "      <td>Female</td>\n",
       "      <td>China</td>\n",
       "      <td>R</td>\n",
       "      <td>Asian</td>\n",
       "      <td>Brazilian</td>\n",
       "      <td>Indian</td>\n",
       "      <td>Beginner</td>\n",
       "    </tr>\n",
       "    <tr>\n",
       "      <th>1</th>\n",
       "      <td>Male</td>\n",
       "      <td>Indonesia</td>\n",
       "      <td>R</td>\n",
       "      <td>Asian</td>\n",
       "      <td>Brazilian</td>\n",
       "      <td>Indian</td>\n",
       "      <td>Beginner</td>\n",
       "    </tr>\n",
       "    <tr>\n",
       "      <th>2</th>\n",
       "      <td>Male</td>\n",
       "      <td>Nigeria</td>\n",
       "      <td>R</td>\n",
       "      <td>Asian</td>\n",
       "      <td>Brazilian</td>\n",
       "      <td>Indian</td>\n",
       "      <td>Advance</td>\n",
       "    </tr>\n",
       "    <tr>\n",
       "      <th>3</th>\n",
       "      <td>Female</td>\n",
       "      <td>Sweden</td>\n",
       "      <td>R</td>\n",
       "      <td>Asian</td>\n",
       "      <td>Brazilian</td>\n",
       "      <td>Indian</td>\n",
       "      <td>Advance</td>\n",
       "    </tr>\n",
       "    <tr>\n",
       "      <th>4</th>\n",
       "      <td>Female</td>\n",
       "      <td>China</td>\n",
       "      <td>R</td>\n",
       "      <td>Greek</td>\n",
       "      <td>BBQ</td>\n",
       "      <td>Brazilian</td>\n",
       "      <td>Intermediate</td>\n",
       "    </tr>\n",
       "  </tbody>\n",
       "</table>\n",
       "</div>"
      ],
      "text/plain": [
       "   gender    Country Code Language Cuisine 1  Cuisine 2  Cuisine 3  \\\n",
       "0  Female      China             R     Asian  Brazilian     Indian   \n",
       "1    Male  Indonesia             R     Asian  Brazilian     Indian   \n",
       "2    Male    Nigeria             R     Asian  Brazilian     Indian   \n",
       "3  Female     Sweden             R     Asian  Brazilian     Indian   \n",
       "4  Female      China             R     Greek        BBQ  Brazilian   \n",
       "\n",
       "   Coding Level  \n",
       "0      Beginner  \n",
       "1      Beginner  \n",
       "2       Advance  \n",
       "3       Advance  \n",
       "4  Intermediate  "
      ]
     },
     "execution_count": 24,
     "metadata": {},
     "output_type": "execute_result"
    }
   ],
   "source": [
    "data.head()"
   ]
  },
  {
   "cell_type": "markdown",
   "metadata": {},
   "source": [
    "## 2. Encoding of categorical variables\n",
    "<a class=\"anchor\" id=\"2\"></a>\n",
    "\n",
    "[^Index](#index)"
   ]
  },
  {
   "cell_type": "code",
   "execution_count": 25,
   "metadata": {},
   "outputs": [],
   "source": [
    "#I will encode the variables in order to manage the data easily\n",
    "\n",
    "match = data.copy()"
   ]
  },
  {
   "cell_type": "code",
   "execution_count": 26,
   "metadata": {},
   "outputs": [],
   "source": [
    "import category_encoders as ce\n",
    "\n",
    "# Step 1. Instantiate the model with the necessary inputs\n",
    "encoder = ce.OrdinalEncoder(cols=['gender', 'Country', 'Code Language', 'Cuisine 1', 'Cuisine 2', \n",
    "                                 'Cuisine 3', 'Coding Level'])\n",
    "\n",
    "# Step 2. Fit the variable to the instatiated model\n",
    "match = encoder.fit_transform(match)"
   ]
  },
  {
   "cell_type": "code",
   "execution_count": 27,
   "metadata": {},
   "outputs": [
    {
     "name": "stdout",
     "output_type": "stream",
     "text": [
      "    gender  Country  Code Language  Cuisine 1  Cuisine 2  Cuisine 3  \\\n",
      "0        1        1              1          1          1          1   \n",
      "1        2        2              1          1          1          1   \n",
      "2        2        3              1          1          1          1   \n",
      "3        1        4              1          1          1          1   \n",
      "4        1        1              1          2          2          2   \n",
      "5        1        1              2          1          3          1   \n",
      "6        2        5              2          3          4          3   \n",
      "7        1        6              2          3          4          3   \n",
      "8        2        7              2          3          4          3   \n",
      "9        2        8              3          4          5          4   \n",
      "10       1        1              3          5          4          1   \n",
      "11       1        9              3          5          4          1   \n",
      "12       1       10              3          1          3          5   \n",
      "13       2        2              3          5          6          6   \n",
      "14       1        2              4          6          2          7   \n",
      "15       1       11              4          6          2          7   \n",
      "16       1       12              4          7          7          8   \n",
      "17       1        2              4          6          2          7   \n",
      "18       1       13              5          4          5          3   \n",
      "19       1       14              6          8          4          9   \n",
      "20       1       15              6          9          4         10   \n",
      "21       2       16              6          9          4         10   \n",
      "22       1       17              6          9          4         10   \n",
      "23       2       16              6          6          2          5   \n",
      "24       1       13              7          4          5         11   \n",
      "25       1       13              7         10          8          9   \n",
      "26       1       18              7         11          8          3   \n",
      "27       1        2              7          1          9         11   \n",
      "28       2        2              7         11          3         12   \n",
      "29       1       19              7          4          5          2   \n",
      "30       1       20              2          4          5          2   \n",
      "31       1       21              2          7         10         12   \n",
      "32       1        1              2          8          2         10   \n",
      "33       2        1              2          1          3          4   \n",
      "34       2       19              2          1          3          4   \n",
      "35       1        2              2          1          3          4   \n",
      "36       2       22              2          8         11          5   \n",
      "37       2        2              8          2          1         13   \n",
      "38       2        1              8          8         11          5   \n",
      "39       1        1              8          8         11          5   \n",
      "40       2        2              8         10         12          7   \n",
      "41       1       23              8         10         12          7   \n",
      "42       2        9              9          7          3          2   \n",
      "43       1       23              9          1         13          7   \n",
      "44       2        1              9          7          3          2   \n",
      "45       1        9             10          7          5          5   \n",
      "46       2        1             10          7          5          5   \n",
      "47       1       23              4          6         12          8   \n",
      "48       2       11              4          6         12          8   \n",
      "49       1       24              4          1          3         10   \n",
      "\n",
      "    Coding Level  \n",
      "0              1  \n",
      "1              1  \n",
      "2              2  \n",
      "3              2  \n",
      "4              3  \n",
      "5              1  \n",
      "6              3  \n",
      "7              3  \n",
      "8              3  \n",
      "9              2  \n",
      "10             2  \n",
      "11             2  \n",
      "12             2  \n",
      "13             1  \n",
      "14             3  \n",
      "15             3  \n",
      "16             3  \n",
      "17             3  \n",
      "18             2  \n",
      "19             2  \n",
      "20             1  \n",
      "21             1  \n",
      "22             1  \n",
      "23             3  \n",
      "24             2  \n",
      "25             1  \n",
      "26             2  \n",
      "27             3  \n",
      "28             3  \n",
      "29             1  \n",
      "30             1  \n",
      "31             1  \n",
      "32             2  \n",
      "33             3  \n",
      "34             3  \n",
      "35             3  \n",
      "36             2  \n",
      "37             1  \n",
      "38             2  \n",
      "39             2  \n",
      "40             3  \n",
      "41             3  \n",
      "42             1  \n",
      "43             3  \n",
      "44             1  \n",
      "45             2  \n",
      "46             2  \n",
      "47             3  \n",
      "48             3  \n",
      "49             1  \n"
     ]
    }
   ],
   "source": [
    "print(match)"
   ]
  },
  {
   "cell_type": "code",
   "execution_count": 28,
   "metadata": {},
   "outputs": [
    {
     "data": {
      "text/plain": [
       "<matplotlib.axes._subplots.AxesSubplot at 0x7f139a316190>"
      ]
     },
     "execution_count": 28,
     "metadata": {},
     "output_type": "execute_result"
    },
    {
     "data": {
      "image/png": "[encoded data removed]",
      "text/plain": [
       "<Figure size 1152x504 with 1 Axes>"
      ]
     },
     "metadata": {},
     "output_type": "display_data"
    }
   ],
   "source": [
    "#How is the distribution of the variables? Is it true there were not outliers?\n",
    "\n",
    "plt.figure(figsize=(16,7))\n",
    "sns.boxplot(data=match.loc[:] , orient=\"h\", palette=\"viridis\")"
   ]
  },
  {
   "cell_type": "code",
   "execution_count": 29,
   "metadata": {},
   "outputs": [
    {
     "name": "stdout",
     "output_type": "stream",
     "text": [
      "<class 'pandas.core.frame.DataFrame'>\n",
      "RangeIndex: 50 entries, 0 to 49\n",
      "Data columns (total 7 columns):\n",
      " #   Column         Non-Null Count  Dtype\n",
      "---  ------         --------------  -----\n",
      " 0   gender         50 non-null     int64\n",
      " 1   Country        50 non-null     int64\n",
      " 2   Code Language  50 non-null     int64\n",
      " 3   Cuisine 1      50 non-null     int64\n",
      " 4   Cuisine 2      50 non-null     int64\n",
      " 5   Cuisine 3      50 non-null     int64\n",
      " 6   Coding Level   50 non-null     int64\n",
      "dtypes: int64(7)\n",
      "memory usage: 2.9 KB\n"
     ]
    }
   ],
   "source": [
    "match.info()"
   ]
  },
  {
   "cell_type": "markdown",
   "metadata": {},
   "source": [
    "## 3. Clustering with Kmodes\n",
    "<a class=\"anchor\" id=\"3\"></a>\n",
    "\n",
    "[^Index](#index)"
   ]
  },
  {
   "cell_type": "code",
   "execution_count": 30,
   "metadata": {},
   "outputs": [
    {
     "name": "stdout",
     "output_type": "stream",
     "text": [
      "Requirement already satisfied: kmodes in /home/user/my-project-env/lib/python3.7/site-packages (0.10.2)\n",
      "Requirement already satisfied: numpy>=1.10.4 in /home/user/my-project-env/lib/python3.7/site-packages (from kmodes) (1.18.4)\n",
      "Requirement already satisfied: joblib>=0.11 in /home/user/my-project-env/lib/python3.7/site-packages (from kmodes) (0.14.1)\n",
      "Requirement already satisfied: scikit-learn>=0.19.0 in /home/user/my-project-env/lib/python3.7/site-packages (from kmodes) (0.23.1)\n",
      "Requirement already satisfied: scipy>=0.13.3 in /home/user/my-project-env/lib/python3.7/site-packages (from kmodes) (1.4.1)\n",
      "Requirement already satisfied: threadpoolctl>=2.0.0 in /home/user/my-project-env/lib/python3.7/site-packages (from scikit-learn>=0.19.0->kmodes) (2.0.0)\n",
      "\u001b[33mWARNING: You are using pip version 20.1; however, version 20.1.1 is available.\n",
      "You should consider upgrading via the '/home/user/my-project-env/bin/python3 -m pip install --upgrade pip' command.\u001b[0m\n",
      "Note: you may need to restart the kernel to use updated packages.\n"
     ]
    }
   ],
   "source": [
    "pip install kmodes"
   ]
  },
  {
   "cell_type": "code",
   "execution_count": 31,
   "metadata": {},
   "outputs": [
    {
     "name": "stdout",
     "output_type": "stream",
     "text": [
      "Init: initializing centroids\n",
      "Init: initializing clusters\n",
      "Starting iterations...\n",
      "Run 1, iteration: 1/100, moves: 2, cost: 214.0\n"
     ]
    }
   ],
   "source": [
    "#Using K-Mode with \"Cao\" initialization\n",
    "\n",
    "from kmodes.kmodes import KModes\n",
    "\n",
    "km_cao = KModes(n_clusters=2, init = \"Cao\", n_init = 1, verbose=1)\n",
    "fitClusters_cao = km_cao.fit_predict(match)"
   ]
  },
  {
   "cell_type": "code",
   "execution_count": 32,
   "metadata": {},
   "outputs": [
    {
     "data": {
      "text/plain": [
       "array([0, 0, 0, 0, 1, 0, 0, 0, 0, 0, 0, 0, 0, 1, 1, 1, 1, 1, 0, 0, 0, 0,\n",
       "       0, 1, 0, 0, 0, 1, 1, 0, 0, 0, 0, 0, 0, 0, 0, 1, 0, 0, 1, 1, 0, 1,\n",
       "       0, 0, 0, 1, 1, 0], dtype=uint16)"
      ]
     },
     "execution_count": 32,
     "metadata": {},
     "output_type": "execute_result"
    }
   ],
   "source": [
    "# Predicted Clusters\n",
    "fitClusters_cao"
   ]
  },
  {
   "cell_type": "code",
   "execution_count": 33,
   "metadata": {},
   "outputs": [],
   "source": [
    "clusterCentroidsDf = pd.DataFrame(km_cao.cluster_centroids_)\n",
    "clusterCentroidsDf.columns = match.columns"
   ]
  },
  {
   "cell_type": "code",
   "execution_count": 34,
   "metadata": {},
   "outputs": [
    {
     "data": {
      "text/html": [
       "<div>\n",
       "<style scoped>\n",
       "    .dataframe tbody tr th:only-of-type {\n",
       "        vertical-align: middle;\n",
       "    }\n",
       "\n",
       "    .dataframe tbody tr th {\n",
       "        vertical-align: top;\n",
       "    }\n",
       "\n",
       "    .dataframe thead th {\n",
       "        text-align: right;\n",
       "    }\n",
       "</style>\n",
       "<table border=\"1\" class=\"dataframe\">\n",
       "  <thead>\n",
       "    <tr style=\"text-align: right;\">\n",
       "      <th></th>\n",
       "      <th>gender</th>\n",
       "      <th>Country</th>\n",
       "      <th>Code Language</th>\n",
       "      <th>Cuisine 1</th>\n",
       "      <th>Cuisine 2</th>\n",
       "      <th>Cuisine 3</th>\n",
       "      <th>Coding Level</th>\n",
       "    </tr>\n",
       "  </thead>\n",
       "  <tbody>\n",
       "    <tr>\n",
       "      <th>0</th>\n",
       "      <td>1</td>\n",
       "      <td>1</td>\n",
       "      <td>2</td>\n",
       "      <td>1</td>\n",
       "      <td>4</td>\n",
       "      <td>1</td>\n",
       "      <td>2</td>\n",
       "    </tr>\n",
       "    <tr>\n",
       "      <th>1</th>\n",
       "      <td>1</td>\n",
       "      <td>2</td>\n",
       "      <td>4</td>\n",
       "      <td>6</td>\n",
       "      <td>2</td>\n",
       "      <td>7</td>\n",
       "      <td>3</td>\n",
       "    </tr>\n",
       "  </tbody>\n",
       "</table>\n",
       "</div>"
      ],
      "text/plain": [
       "   gender  Country  Code Language  Cuisine 1  Cuisine 2  Cuisine 3  \\\n",
       "0       1        1              2          1          4          1   \n",
       "1       1        2              4          6          2          7   \n",
       "\n",
       "   Coding Level  \n",
       "0             2  \n",
       "1             3  "
      ]
     },
     "execution_count": 34,
     "metadata": {},
     "output_type": "execute_result"
    }
   ],
   "source": [
    "# Mode of the clusters\n",
    "clusterCentroidsDf"
   ]
  },
  {
   "cell_type": "code",
   "execution_count": 35,
   "metadata": {},
   "outputs": [
    {
     "name": "stdout",
     "output_type": "stream",
     "text": [
      "Init: initializing centroids\n",
      "Init: initializing clusters\n",
      "Starting iterations...\n",
      "Run 1, iteration: 1/100, moves: 0, cost: 219.0\n"
     ]
    }
   ],
   "source": [
    "#Using K-Mode with \"Huang\" initialization\n",
    "\n",
    "km_huang = KModes(n_clusters=2, init = \"Huang\", n_init = 1, verbose=1)\n",
    "fitClusters_huang = km_huang.fit_predict(match)"
   ]
  },
  {
   "cell_type": "code",
   "execution_count": 36,
   "metadata": {},
   "outputs": [
    {
     "data": {
      "text/plain": [
       "array([0, 1, 0, 0, 0, 0, 1, 0, 1, 0, 0, 0, 0, 1, 1, 0, 0, 1, 0, 0, 0, 1,\n",
       "       0, 1, 0, 0, 0, 1, 1, 0, 0, 0, 0, 1, 1, 1, 0, 1, 0, 0, 1, 0, 1, 0,\n",
       "       1, 0, 0, 0, 1, 0], dtype=uint16)"
      ]
     },
     "execution_count": 36,
     "metadata": {},
     "output_type": "execute_result"
    }
   ],
   "source": [
    "# Predicted clusters\n",
    "fitClusters_huang"
   ]
  },
  {
   "cell_type": "code",
   "execution_count": 37,
   "metadata": {},
   "outputs": [
    {
     "name": "stdout",
     "output_type": "stream",
     "text": [
      "Init: initializing centroids\n",
      "Init: initializing clusters\n",
      "Starting iterations...\n",
      "Run 1, iteration: 1/100, moves: 0, cost: 251.0\n",
      "Init: initializing centroids\n",
      "Init: initializing clusters\n",
      "Starting iterations...\n",
      "Run 1, iteration: 1/100, moves: 2, cost: 214.0\n",
      "Init: initializing centroids\n",
      "Init: initializing clusters\n",
      "Starting iterations...\n",
      "Run 1, iteration: 1/100, moves: 3, cost: 190.0\n",
      "Init: initializing centroids\n",
      "Init: initializing clusters\n",
      "Starting iterations...\n",
      "Run 1, iteration: 1/100, moves: 3, cost: 175.0\n"
     ]
    }
   ],
   "source": [
    "#Choosing K by comparing Cost against each K\n",
    "\n",
    "cost = []\n",
    "for num_clusters in list(range(1,5)):\n",
    "    kmode = KModes(n_clusters=num_clusters, init = \"Cao\", n_init = 1, verbose=1)\n",
    "    kmode.fit_predict(match)\n",
    "    cost.append(kmode.cost_)"
   ]
  },
  {
   "cell_type": "code",
   "execution_count": 38,
   "metadata": {},
   "outputs": [
    {
     "data": {
      "text/plain": [
       "[<matplotlib.lines.Line2D at 0x7f13994b4310>]"
      ]
     },
     "execution_count": 38,
     "metadata": {},
     "output_type": "execute_result"
    },
    {
     "data": {
      "image/png": "[encoded data removed]",
      "text/plain": [
       "<Figure size 842.4x595.44 with 1 Axes>"
      ]
     },
     "metadata": {},
     "output_type": "display_data"
    }
   ],
   "source": [
    "y = np.array([i for i in range(1,5,1)])\n",
    "plt.plot(y,cost)"
   ]
  },
  {
   "cell_type": "code",
   "execution_count": 39,
   "metadata": {},
   "outputs": [],
   "source": [
    "## Choosing K=2"
   ]
  },
  {
   "cell_type": "code",
   "execution_count": 40,
   "metadata": {},
   "outputs": [
    {
     "name": "stdout",
     "output_type": "stream",
     "text": [
      "Init: initializing centroids\n",
      "Init: initializing clusters\n",
      "Starting iterations...\n",
      "Run 1, iteration: 1/100, moves: 2, cost: 214.0\n"
     ]
    }
   ],
   "source": [
    "km_cao = KModes(n_clusters=2, init = \"Cao\", n_init = 1, verbose=1)\n",
    "fitClusters_cao = km_cao.fit_predict(match)"
   ]
  },
  {
   "cell_type": "code",
   "execution_count": 41,
   "metadata": {},
   "outputs": [
    {
     "data": {
      "text/plain": [
       "array([0, 0, 0, 0, 1, 0, 0, 0, 0, 0, 0, 0, 0, 1, 1, 1, 1, 1, 0, 0, 0, 0,\n",
       "       0, 1, 0, 0, 0, 1, 1, 0, 0, 0, 0, 0, 0, 0, 0, 1, 0, 0, 1, 1, 0, 1,\n",
       "       0, 0, 0, 1, 1, 0], dtype=uint16)"
      ]
     },
     "execution_count": 41,
     "metadata": {},
     "output_type": "execute_result"
    }
   ],
   "source": [
    "fitClusters_cao"
   ]
  },
  {
   "cell_type": "code",
   "execution_count": 42,
   "metadata": {},
   "outputs": [],
   "source": [
    "#Combining the predicted clusters with the original DF"
   ]
  },
  {
   "cell_type": "code",
   "execution_count": 43,
   "metadata": {},
   "outputs": [],
   "source": [
    "match_reset = match.reset_index()"
   ]
  },
  {
   "cell_type": "code",
   "execution_count": 44,
   "metadata": {},
   "outputs": [],
   "source": [
    "clustersDf = pd.DataFrame(fitClusters_cao)\n",
    "clustersDf.columns = ['cluster_predicted']\n",
    "combinedDf = pd.concat([match_reset, clustersDf], axis = 1).reset_index()\n",
    "combinedDf = combinedDf.drop(['index', 'level_0'], axis = 1)"
   ]
  },
  {
   "cell_type": "code",
   "execution_count": 45,
   "metadata": {},
   "outputs": [
    {
     "data": {
      "text/html": [
       "<div>\n",
       "<style scoped>\n",
       "    .dataframe tbody tr th:only-of-type {\n",
       "        vertical-align: middle;\n",
       "    }\n",
       "\n",
       "    .dataframe tbody tr th {\n",
       "        vertical-align: top;\n",
       "    }\n",
       "\n",
       "    .dataframe thead th {\n",
       "        text-align: right;\n",
       "    }\n",
       "</style>\n",
       "<table border=\"1\" class=\"dataframe\">\n",
       "  <thead>\n",
       "    <tr style=\"text-align: right;\">\n",
       "      <th></th>\n",
       "      <th>gender</th>\n",
       "      <th>Country</th>\n",
       "      <th>Code Language</th>\n",
       "      <th>Cuisine 1</th>\n",
       "      <th>Cuisine 2</th>\n",
       "      <th>Cuisine 3</th>\n",
       "      <th>Coding Level</th>\n",
       "      <th>cluster_predicted</th>\n",
       "    </tr>\n",
       "  </thead>\n",
       "  <tbody>\n",
       "    <tr>\n",
       "      <th>0</th>\n",
       "      <td>1</td>\n",
       "      <td>1</td>\n",
       "      <td>1</td>\n",
       "      <td>1</td>\n",
       "      <td>1</td>\n",
       "      <td>1</td>\n",
       "      <td>1</td>\n",
       "      <td>0</td>\n",
       "    </tr>\n",
       "    <tr>\n",
       "      <th>1</th>\n",
       "      <td>2</td>\n",
       "      <td>2</td>\n",
       "      <td>1</td>\n",
       "      <td>1</td>\n",
       "      <td>1</td>\n",
       "      <td>1</td>\n",
       "      <td>1</td>\n",
       "      <td>0</td>\n",
       "    </tr>\n",
       "    <tr>\n",
       "      <th>2</th>\n",
       "      <td>2</td>\n",
       "      <td>3</td>\n",
       "      <td>1</td>\n",
       "      <td>1</td>\n",
       "      <td>1</td>\n",
       "      <td>1</td>\n",
       "      <td>2</td>\n",
       "      <td>0</td>\n",
       "    </tr>\n",
       "    <tr>\n",
       "      <th>3</th>\n",
       "      <td>1</td>\n",
       "      <td>4</td>\n",
       "      <td>1</td>\n",
       "      <td>1</td>\n",
       "      <td>1</td>\n",
       "      <td>1</td>\n",
       "      <td>2</td>\n",
       "      <td>0</td>\n",
       "    </tr>\n",
       "    <tr>\n",
       "      <th>4</th>\n",
       "      <td>1</td>\n",
       "      <td>1</td>\n",
       "      <td>1</td>\n",
       "      <td>2</td>\n",
       "      <td>2</td>\n",
       "      <td>2</td>\n",
       "      <td>3</td>\n",
       "      <td>1</td>\n",
       "    </tr>\n",
       "  </tbody>\n",
       "</table>\n",
       "</div>"
      ],
      "text/plain": [
       "   gender  Country  Code Language  Cuisine 1  Cuisine 2  Cuisine 3  \\\n",
       "0       1        1              1          1          1          1   \n",
       "1       2        2              1          1          1          1   \n",
       "2       2        3              1          1          1          1   \n",
       "3       1        4              1          1          1          1   \n",
       "4       1        1              1          2          2          2   \n",
       "\n",
       "   Coding Level  cluster_predicted  \n",
       "0             1                  0  \n",
       "1             1                  0  \n",
       "2             2                  0  \n",
       "3             2                  0  \n",
       "4             3                  1  "
      ]
     },
     "execution_count": 45,
     "metadata": {},
     "output_type": "execute_result"
    }
   ],
   "source": [
    "combinedDf.head()"
   ]
  },
  {
   "cell_type": "code",
   "execution_count": 46,
   "metadata": {},
   "outputs": [
    {
     "data": {
      "text/plain": [
       "2"
      ]
     },
     "execution_count": 46,
     "metadata": {},
     "output_type": "execute_result"
    }
   ],
   "source": [
    "combinedDf.cluster_predicted.nunique()"
   ]
  },
  {
   "cell_type": "code",
   "execution_count": 47,
   "metadata": {},
   "outputs": [],
   "source": [
    "#Cluster Identification"
   ]
  },
  {
   "cell_type": "code",
   "execution_count": 48,
   "metadata": {},
   "outputs": [],
   "source": [
    "cluster_0 = combinedDf[combinedDf['cluster_predicted'] == 0]\n",
    "cluster_1 = combinedDf[combinedDf['cluster_predicted'] == 1]"
   ]
  },
  {
   "cell_type": "code",
   "execution_count": 49,
   "metadata": {},
   "outputs": [
    {
     "name": "stdout",
     "output_type": "stream",
     "text": [
      "<class 'pandas.core.frame.DataFrame'>\n",
      "Int64Index: 35 entries, 0 to 49\n",
      "Data columns (total 8 columns):\n",
      " #   Column             Non-Null Count  Dtype \n",
      "---  ------             --------------  ----- \n",
      " 0   gender             35 non-null     int64 \n",
      " 1   Country            35 non-null     int64 \n",
      " 2   Code Language      35 non-null     int64 \n",
      " 3   Cuisine 1          35 non-null     int64 \n",
      " 4   Cuisine 2          35 non-null     int64 \n",
      " 5   Cuisine 3          35 non-null     int64 \n",
      " 6   Coding Level       35 non-null     int64 \n",
      " 7   cluster_predicted  35 non-null     uint16\n",
      "dtypes: int64(7), uint16(1)\n",
      "memory usage: 2.3 KB\n"
     ]
    }
   ],
   "source": [
    "cluster_0.info()"
   ]
  },
  {
   "cell_type": "code",
   "execution_count": 50,
   "metadata": {},
   "outputs": [
    {
     "name": "stdout",
     "output_type": "stream",
     "text": [
      "<class 'pandas.core.frame.DataFrame'>\n",
      "Int64Index: 15 entries, 4 to 48\n",
      "Data columns (total 8 columns):\n",
      " #   Column             Non-Null Count  Dtype \n",
      "---  ------             --------------  ----- \n",
      " 0   gender             15 non-null     int64 \n",
      " 1   Country            15 non-null     int64 \n",
      " 2   Code Language      15 non-null     int64 \n",
      " 3   Cuisine 1          15 non-null     int64 \n",
      " 4   Cuisine 2          15 non-null     int64 \n",
      " 5   Cuisine 3          15 non-null     int64 \n",
      " 6   Coding Level       15 non-null     int64 \n",
      " 7   cluster_predicted  15 non-null     uint16\n",
      "dtypes: int64(7), uint16(1)\n",
      "memory usage: 990.0 bytes\n"
     ]
    }
   ],
   "source": [
    "cluster_1.info()"
   ]
  },
  {
   "cell_type": "code",
   "execution_count": 51,
   "metadata": {},
   "outputs": [
    {
     "data": {
      "image/png": "[encoded data removed]",
      "text/plain": [
       "<Figure size 1080x360 with 1 Axes>"
      ]
     },
     "metadata": {},
     "output_type": "display_data"
    }
   ],
   "source": [
    "#Code Language\n",
    "\n",
    "plt.subplots(figsize = (15,5))\n",
    "sns.countplot(x=combinedDf['Code Language'],order=combinedDf['Code Language'].value_counts().index,hue=combinedDf['cluster_predicted'])\n",
    "plt.show()"
   ]
  },
  {
   "cell_type": "code",
   "execution_count": 52,
   "metadata": {},
   "outputs": [
    {
     "data": {
      "image/png": "[encoded data removed]",
      "text/plain": [
       "<Figure size 1080x360 with 1 Axes>"
      ]
     },
     "metadata": {},
     "output_type": "display_data"
    }
   ],
   "source": [
    "#Cuisine 1\n",
    "\n",
    "plt.subplots(figsize = (15,5))\n",
    "sns.countplot(x=combinedDf['Cuisine 1'],order=combinedDf['Cuisine 1'].value_counts().index,hue=combinedDf['cluster_predicted'])\n",
    "plt.show()"
   ]
  },
  {
   "cell_type": "code",
   "execution_count": 53,
   "metadata": {},
   "outputs": [
    {
     "data": {
      "image/png": "[encoded data removed]",
      "text/plain": [
       "<Figure size 1080x360 with 1 Axes>"
      ]
     },
     "metadata": {},
     "output_type": "display_data"
    }
   ],
   "source": [
    "#Coding Level\n",
    "\n",
    "plt.subplots(figsize = (15,5))\n",
    "sns.countplot(x=combinedDf['Coding Level'],order=combinedDf['Coding Level'].value_counts().index,hue=combinedDf['cluster_predicted'])\n",
    "plt.show()"
   ]
  },
  {
   "cell_type": "code",
   "execution_count": 54,
   "metadata": {},
   "outputs": [],
   "source": [
    "## Choosing K=3"
   ]
  },
  {
   "cell_type": "code",
   "execution_count": 55,
   "metadata": {},
   "outputs": [
    {
     "name": "stdout",
     "output_type": "stream",
     "text": [
      "Init: initializing centroids\n",
      "Init: initializing clusters\n",
      "Starting iterations...\n",
      "Run 1, iteration: 1/100, moves: 3, cost: 190.0\n"
     ]
    }
   ],
   "source": [
    "km_cao = KModes(n_clusters=3, init = \"Cao\", n_init = 1, verbose=1)\n",
    "fitClusters_cao = km_cao.fit_predict(match)"
   ]
  },
  {
   "cell_type": "code",
   "execution_count": 56,
   "metadata": {},
   "outputs": [
    {
     "data": {
      "text/plain": [
       "array([0, 0, 0, 0, 1, 0, 0, 0, 0, 2, 2, 2, 2, 0, 1, 1, 1, 1, 2, 2, 0, 0,\n",
       "       0, 1, 2, 0, 2, 1, 1, 0, 0, 0, 2, 0, 0, 0, 2, 0, 2, 2, 1, 1, 0, 1,\n",
       "       0, 2, 2, 1, 1, 0], dtype=uint16)"
      ]
     },
     "execution_count": 56,
     "metadata": {},
     "output_type": "execute_result"
    }
   ],
   "source": [
    "fitClusters_cao"
   ]
  },
  {
   "cell_type": "code",
   "execution_count": 57,
   "metadata": {},
   "outputs": [],
   "source": [
    "#Combining the predicted clusters with the original DF"
   ]
  },
  {
   "cell_type": "code",
   "execution_count": 58,
   "metadata": {},
   "outputs": [],
   "source": [
    "match_reset = match.reset_index()"
   ]
  },
  {
   "cell_type": "code",
   "execution_count": 59,
   "metadata": {},
   "outputs": [],
   "source": [
    "clustersDf = pd.DataFrame(fitClusters_cao)\n",
    "clustersDf.columns = ['cluster_predicted']\n",
    "combinedDf3 = pd.concat([match_reset, clustersDf], axis = 1).reset_index()\n",
    "combinedDf3 = combinedDf3.drop(['index', 'level_0'], axis = 1)"
   ]
  },
  {
   "cell_type": "code",
   "execution_count": 60,
   "metadata": {},
   "outputs": [
    {
     "data": {
      "text/html": [
       "<div>\n",
       "<style scoped>\n",
       "    .dataframe tbody tr th:only-of-type {\n",
       "        vertical-align: middle;\n",
       "    }\n",
       "\n",
       "    .dataframe tbody tr th {\n",
       "        vertical-align: top;\n",
       "    }\n",
       "\n",
       "    .dataframe thead th {\n",
       "        text-align: right;\n",
       "    }\n",
       "</style>\n",
       "<table border=\"1\" class=\"dataframe\">\n",
       "  <thead>\n",
       "    <tr style=\"text-align: right;\">\n",
       "      <th></th>\n",
       "      <th>gender</th>\n",
       "      <th>Country</th>\n",
       "      <th>Code Language</th>\n",
       "      <th>Cuisine 1</th>\n",
       "      <th>Cuisine 2</th>\n",
       "      <th>Cuisine 3</th>\n",
       "      <th>Coding Level</th>\n",
       "      <th>cluster_predicted</th>\n",
       "    </tr>\n",
       "  </thead>\n",
       "  <tbody>\n",
       "    <tr>\n",
       "      <th>0</th>\n",
       "      <td>1</td>\n",
       "      <td>1</td>\n",
       "      <td>1</td>\n",
       "      <td>1</td>\n",
       "      <td>1</td>\n",
       "      <td>1</td>\n",
       "      <td>1</td>\n",
       "      <td>0</td>\n",
       "    </tr>\n",
       "    <tr>\n",
       "      <th>1</th>\n",
       "      <td>2</td>\n",
       "      <td>2</td>\n",
       "      <td>1</td>\n",
       "      <td>1</td>\n",
       "      <td>1</td>\n",
       "      <td>1</td>\n",
       "      <td>1</td>\n",
       "      <td>0</td>\n",
       "    </tr>\n",
       "    <tr>\n",
       "      <th>2</th>\n",
       "      <td>2</td>\n",
       "      <td>3</td>\n",
       "      <td>1</td>\n",
       "      <td>1</td>\n",
       "      <td>1</td>\n",
       "      <td>1</td>\n",
       "      <td>2</td>\n",
       "      <td>0</td>\n",
       "    </tr>\n",
       "    <tr>\n",
       "      <th>3</th>\n",
       "      <td>1</td>\n",
       "      <td>4</td>\n",
       "      <td>1</td>\n",
       "      <td>1</td>\n",
       "      <td>1</td>\n",
       "      <td>1</td>\n",
       "      <td>2</td>\n",
       "      <td>0</td>\n",
       "    </tr>\n",
       "    <tr>\n",
       "      <th>4</th>\n",
       "      <td>1</td>\n",
       "      <td>1</td>\n",
       "      <td>1</td>\n",
       "      <td>2</td>\n",
       "      <td>2</td>\n",
       "      <td>2</td>\n",
       "      <td>3</td>\n",
       "      <td>1</td>\n",
       "    </tr>\n",
       "  </tbody>\n",
       "</table>\n",
       "</div>"
      ],
      "text/plain": [
       "   gender  Country  Code Language  Cuisine 1  Cuisine 2  Cuisine 3  \\\n",
       "0       1        1              1          1          1          1   \n",
       "1       2        2              1          1          1          1   \n",
       "2       2        3              1          1          1          1   \n",
       "3       1        4              1          1          1          1   \n",
       "4       1        1              1          2          2          2   \n",
       "\n",
       "   Coding Level  cluster_predicted  \n",
       "0             1                  0  \n",
       "1             1                  0  \n",
       "2             2                  0  \n",
       "3             2                  0  \n",
       "4             3                  1  "
      ]
     },
     "execution_count": 60,
     "metadata": {},
     "output_type": "execute_result"
    }
   ],
   "source": [
    "combinedDf3.head()"
   ]
  },
  {
   "cell_type": "code",
   "execution_count": 61,
   "metadata": {},
   "outputs": [
    {
     "data": {
      "text/plain": [
       "3"
      ]
     },
     "execution_count": 61,
     "metadata": {},
     "output_type": "execute_result"
    }
   ],
   "source": [
    "combinedDf3.cluster_predicted.nunique()"
   ]
  },
  {
   "cell_type": "code",
   "execution_count": 62,
   "metadata": {},
   "outputs": [],
   "source": [
    "#Cluster Identification"
   ]
  },
  {
   "cell_type": "code",
   "execution_count": 63,
   "metadata": {},
   "outputs": [],
   "source": [
    "cluster_0 = combinedDf3[combinedDf3['cluster_predicted'] == 0]\n",
    "cluster_1 = combinedDf3[combinedDf3['cluster_predicted'] == 1]\n",
    "cluster_2 = combinedDf3[combinedDf3['cluster_predicted'] == 2]"
   ]
  },
  {
   "cell_type": "code",
   "execution_count": 64,
   "metadata": {},
   "outputs": [
    {
     "name": "stdout",
     "output_type": "stream",
     "text": [
      "<class 'pandas.core.frame.DataFrame'>\n",
      "Int64Index: 23 entries, 0 to 49\n",
      "Data columns (total 8 columns):\n",
      " #   Column             Non-Null Count  Dtype \n",
      "---  ------             --------------  ----- \n",
      " 0   gender             23 non-null     int64 \n",
      " 1   Country            23 non-null     int64 \n",
      " 2   Code Language      23 non-null     int64 \n",
      " 3   Cuisine 1          23 non-null     int64 \n",
      " 4   Cuisine 2          23 non-null     int64 \n",
      " 5   Cuisine 3          23 non-null     int64 \n",
      " 6   Coding Level       23 non-null     int64 \n",
      " 7   cluster_predicted  23 non-null     uint16\n",
      "dtypes: int64(7), uint16(1)\n",
      "memory usage: 1.5 KB\n"
     ]
    }
   ],
   "source": [
    "cluster_0.info()"
   ]
  },
  {
   "cell_type": "code",
   "execution_count": 65,
   "metadata": {},
   "outputs": [
    {
     "name": "stdout",
     "output_type": "stream",
     "text": [
      "<class 'pandas.core.frame.DataFrame'>\n",
      "Int64Index: 13 entries, 4 to 48\n",
      "Data columns (total 8 columns):\n",
      " #   Column             Non-Null Count  Dtype \n",
      "---  ------             --------------  ----- \n",
      " 0   gender             13 non-null     int64 \n",
      " 1   Country            13 non-null     int64 \n",
      " 2   Code Language      13 non-null     int64 \n",
      " 3   Cuisine 1          13 non-null     int64 \n",
      " 4   Cuisine 2          13 non-null     int64 \n",
      " 5   Cuisine 3          13 non-null     int64 \n",
      " 6   Coding Level       13 non-null     int64 \n",
      " 7   cluster_predicted  13 non-null     uint16\n",
      "dtypes: int64(7), uint16(1)\n",
      "memory usage: 858.0 bytes\n"
     ]
    }
   ],
   "source": [
    "cluster_1.info()"
   ]
  },
  {
   "cell_type": "code",
   "execution_count": 66,
   "metadata": {},
   "outputs": [
    {
     "name": "stdout",
     "output_type": "stream",
     "text": [
      "<class 'pandas.core.frame.DataFrame'>\n",
      "Int64Index: 14 entries, 9 to 46\n",
      "Data columns (total 8 columns):\n",
      " #   Column             Non-Null Count  Dtype \n",
      "---  ------             --------------  ----- \n",
      " 0   gender             14 non-null     int64 \n",
      " 1   Country            14 non-null     int64 \n",
      " 2   Code Language      14 non-null     int64 \n",
      " 3   Cuisine 1          14 non-null     int64 \n",
      " 4   Cuisine 2          14 non-null     int64 \n",
      " 5   Cuisine 3          14 non-null     int64 \n",
      " 6   Coding Level       14 non-null     int64 \n",
      " 7   cluster_predicted  14 non-null     uint16\n",
      "dtypes: int64(7), uint16(1)\n",
      "memory usage: 924.0 bytes\n"
     ]
    }
   ],
   "source": [
    "cluster_2.info()"
   ]
  },
  {
   "cell_type": "code",
   "execution_count": 67,
   "metadata": {},
   "outputs": [
    {
     "data": {
      "image/png": "[encoded data removed]",
      "text/plain": [
       "<Figure size 1080x360 with 1 Axes>"
      ]
     },
     "metadata": {},
     "output_type": "display_data"
    }
   ],
   "source": [
    "#Code Language\n",
    "\n",
    "plt.subplots(figsize = (15,5))\n",
    "sns.countplot(x=combinedDf3['Code Language'],order=combinedDf3['Code Language'].value_counts().index,hue=combinedDf['cluster_predicted'])\n",
    "plt.show()"
   ]
  },
  {
   "cell_type": "code",
   "execution_count": 68,
   "metadata": {},
   "outputs": [
    {
     "data": {
      "image/png": "[encoded data removed]",
      "text/plain": [
       "<Figure size 1080x360 with 1 Axes>"
      ]
     },
     "metadata": {},
     "output_type": "display_data"
    }
   ],
   "source": [
    "#Cuisine 1\n",
    "\n",
    "plt.subplots(figsize = (15,5))\n",
    "sns.countplot(x=combinedDf3['Cuisine 1'],order=combinedDf3['Cuisine 1'].value_counts().index,hue=combinedDf['cluster_predicted'])\n",
    "plt.show()"
   ]
  },
  {
   "cell_type": "code",
   "execution_count": 69,
   "metadata": {},
   "outputs": [
    {
     "data": {
      "image/png": "[encoded data removed]",
      "text/plain": [
       "<Figure size 1080x360 with 1 Axes>"
      ]
     },
     "metadata": {},
     "output_type": "display_data"
    }
   ],
   "source": [
    "#Coding Level\n",
    "\n",
    "plt.subplots(figsize = (15,5))\n",
    "sns.countplot(x=combinedDf3['Coding Level'],order=combinedDf3['Coding Level'].value_counts().index,hue=combinedDf3['cluster_predicted'])\n",
    "plt.show()"
   ]
  },
  {
   "cell_type": "code",
   "execution_count": 70,
   "metadata": {},
   "outputs": [],
   "source": [
    "#After using k= 2 and K= 3 I keep k = 2 "
   ]
  },
  {
   "cell_type": "markdown",
   "metadata": {},
   "source": [
    "## 4. Sorting Clustered Profiles for Machine Learning Matching\n",
    "<a class=\"anchor\" id=\"4\"></a>\n",
    "\n",
    "[^Index](#index)"
   ]
  },
  {
   "cell_type": "code",
   "execution_count": 71,
   "metadata": {},
   "outputs": [],
   "source": [
    "#Sorting the Clustered Profiles"
   ]
  },
  {
   "cell_type": "code",
   "execution_count": 73,
   "metadata": {},
   "outputs": [],
   "source": [
    "df = combinedDf.copy()"
   ]
  },
  {
   "cell_type": "code",
   "execution_count": 85,
   "metadata": {},
   "outputs": [
    {
     "name": "stdout",
     "output_type": "stream",
     "text": [
      "Top 3 most similar users to User # 48 \n",
      "\n",
      "          48\n",
      "47  0.852679\n",
      "16  0.852235\n",
      "41  0.802068\n",
      "\n",
      "The most similar user to User # 48 is User # 47\n"
     ]
    }
   ],
   "source": [
    "import random\n",
    "\n",
    "# Randomly choosing a cluster\n",
    "rand_cluster = random.choice(df['cluster_predicted'].unique())\n",
    "\n",
    "# Assigning the Cluster Profiles as a new DF\n",
    "group = df[df['cluster_predicted']==rand_cluster].drop('cluster_predicted', axis=1)\n",
    "\n",
    "## Finding Correlations among the users\n",
    "\n",
    "# Trasnposing the DF so that we are correlating with the index(users)\n",
    "corr_group = group.T.corr()\n",
    "\n",
    "\n",
    "## Finding the Top 10 Similar Users\n",
    "\n",
    "# Randomly selecting a user\n",
    "random_user = random.choice(corr_group.index)\n",
    "\n",
    "print(\"Top 3 most similar users to User #\", random_user, '\\n')\n",
    "\n",
    "# Creating a DF with the top 10 most similar users to the selected user\n",
    "top_3_sim = corr_group[[random_user]].sort_values(by=[random_user],axis=0, ascending=False)[1:4]\n",
    "\n",
    "# Printing out the results\n",
    "print(top_3_sim)\n",
    "\n",
    "print(\"\\nThe most similar user to User #\", random_user, \"is User #\", top_3_sim.index[0])"
   ]
  },
  {
   "cell_type": "code",
   "execution_count": null,
   "metadata": {},
   "outputs": [],
   "source": []
  },
  {
   "cell_type": "code",
   "execution_count": null,
   "metadata": {},
   "outputs": [],
   "source": []
  }
 ],
 "metadata": {
  "kernelspec": {
   "display_name": "Python 3",
   "language": "python",
   "name": "python3"
  },
  "language_info": {
   "codemirror_mode": {
    "name": "ipython",
    "version": 3
   },
   "file_extension": ".py",
   "mimetype": "text/x-python",
   "name": "python",
   "nbconvert_exporter": "python",
   "pygments_lexer": "ipython3",
   "version": "3.7.6"
  }
 },
 "nbformat": 4,
 "nbformat_minor": 4
}
